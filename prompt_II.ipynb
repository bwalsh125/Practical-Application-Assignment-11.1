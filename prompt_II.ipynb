{
 "cells": [
  {
   "cell_type": "markdown",
   "metadata": {},
   "source": [
    "# What drives the price of a car?\n",
    "\n",
    "![](images/kurt.jpeg)"
   ]
  },
  {
   "cell_type": "markdown",
   "metadata": {},
   "source": [
    "**OVERVIEW**\n",
    "\n",
    "In this application, you will explore a dataset from kaggle. The original dataset contained information on 3 million used cars. The provided dataset contains information on 426K cars to ensure speed of processing.  Your goal is to understand what factors make a car more or less expensive.  As a result of your analysis, you should provide clear recommendations to your client -- a used car dealership -- as to what consumers value in a used car."
   ]
  },
  {
   "cell_type": "markdown",
   "metadata": {},
   "source": [
    "### CRISP-DM Framework\n",
    "\n",
    "<center>\n",
    "    <img src = images/crisp.png width = 50%/>\n",
    "</center>\n",
    "\n",
    "\n",
    "To frame the task, throughout our practical applications we will refer back to a standard process in industry for data projects called CRISP-DM.  This process provides a framework for working through a data problem.  Your first step in this application will be to read through a brief overview of CRISP-DM [here](https://mo-pcco.s3.us-east-1.amazonaws.com/BH-PCMLAI/module_11/readings_starter.zip).  After reading the overview, answer the questions below."
   ]
  },
  {
   "cell_type": "code",
   "execution_count": 1,
   "metadata": {},
   "outputs": [],
   "source": [
    "from sklearn.linear_model import LinearRegression, Lasso, Ridge\n",
    "from sklearn.preprocessing import StandardScaler, PolynomialFeatures\n",
    "from sklearn.pipeline import Pipeline\n",
    "from sklearn.feature_selection import SequentialFeatureSelector, SelectFromModel\n",
    "from sklearn.metrics import mean_squared_error\n",
    "from sklearn.model_selection import train_test_split, GridSearchCV\n",
    "from sklearn import set_config\n",
    "set_config(display=\"diagram\")\n",
    "\n",
    "import matplotlib.pyplot as plt\n",
    "\n",
    "import pandas as pd\n",
    "import numpy as np\n",
    "import seaborn as sns\n",
    "import plotly.express as px\n",
    "import difflib"
   ]
  },
  {
   "cell_type": "markdown",
   "metadata": {},
   "source": [
    "### Business Understanding\n",
    "\n",
    "From a business perspective, we are tasked with identifying key drivers for used car prices.  In the CRISP-DM overview, we are asked to convert this business framing to a data problem definition.  Using a few sentences, reframe the task as a data task with the appropriate technical vocabulary. "
   ]
  },
  {
   "cell_type": "markdown",
   "metadata": {},
   "source": [
    "The goal is to find a set of features found in the use car data that have the greatest influence on price.  The data will first be examined for any useful transformations for numerical features using scalarization or polynomial expansion while categorical string data could be transformed with one-hot encoding.  Various regression models can be trained on a subset of training data and predictions can be from the hold outs.  Examining the error margins of each model and determing the "
   ]
  },
  {
   "cell_type": "code",
   "execution_count": null,
   "metadata": {},
   "outputs": [],
   "source": []
  },
  {
   "cell_type": "code",
   "execution_count": null,
   "metadata": {},
   "outputs": [],
   "source": []
  },
  {
   "cell_type": "code",
   "execution_count": null,
   "metadata": {},
   "outputs": [],
   "source": []
  },
  {
   "cell_type": "markdown",
   "metadata": {},
   "source": [
    "### Data Understanding\n",
    "\n",
    "After considering the business understanding, we want to get familiar with our data.  Write down some steps that you would take to get to know the dataset and identify any quality issues within.  Take time to get to know the dataset and explore what information it contains and how this could be used to inform your business understanding."
   ]
  },
  {
   "cell_type": "code",
   "execution_count": 2,
   "metadata": {},
   "outputs": [],
   "source": [
    "cars = pd.read_csv('data/vehicles.csv')"
   ]
  },
  {
   "cell_type": "code",
   "execution_count": 3,
   "metadata": {},
   "outputs": [
    {
     "name": "stdout",
     "output_type": "stream",
     "text": [
      "<class 'pandas.core.frame.DataFrame'>\n",
      "RangeIndex: 426880 entries, 0 to 426879\n",
      "Data columns (total 18 columns):\n",
      " #   Column        Non-Null Count   Dtype  \n",
      "---  ------        --------------   -----  \n",
      " 0   id            426880 non-null  int64  \n",
      " 1   region        426880 non-null  object \n",
      " 2   price         426880 non-null  int64  \n",
      " 3   year          425675 non-null  float64\n",
      " 4   manufacturer  409234 non-null  object \n",
      " 5   model         421603 non-null  object \n",
      " 6   condition     252776 non-null  object \n",
      " 7   cylinders     249202 non-null  object \n",
      " 8   fuel          423867 non-null  object \n",
      " 9   odometer      422480 non-null  float64\n",
      " 10  title_status  418638 non-null  object \n",
      " 11  transmission  424324 non-null  object \n",
      " 12  VIN           265838 non-null  object \n",
      " 13  drive         296313 non-null  object \n",
      " 14  size          120519 non-null  object \n",
      " 15  type          334022 non-null  object \n",
      " 16  paint_color   296677 non-null  object \n",
      " 17  state         426880 non-null  object \n",
      "dtypes: float64(2), int64(2), object(14)\n",
      "memory usage: 58.6+ MB\n"
     ]
    }
   ],
   "source": [
    "cars.info()"
   ]
  },
  {
   "cell_type": "code",
   "execution_count": 4,
   "metadata": {},
   "outputs": [
    {
     "data": {
      "text/html": [
       "<div>\n",
       "<style scoped>\n",
       "    .dataframe tbody tr th:only-of-type {\n",
       "        vertical-align: middle;\n",
       "    }\n",
       "\n",
       "    .dataframe tbody tr th {\n",
       "        vertical-align: top;\n",
       "    }\n",
       "\n",
       "    .dataframe thead th {\n",
       "        text-align: right;\n",
       "    }\n",
       "</style>\n",
       "<table border=\"1\" class=\"dataframe\">\n",
       "  <thead>\n",
       "    <tr style=\"text-align: right;\">\n",
       "      <th></th>\n",
       "      <th>id</th>\n",
       "      <th>region</th>\n",
       "      <th>price</th>\n",
       "      <th>year</th>\n",
       "      <th>manufacturer</th>\n",
       "      <th>model</th>\n",
       "      <th>condition</th>\n",
       "      <th>cylinders</th>\n",
       "      <th>fuel</th>\n",
       "      <th>odometer</th>\n",
       "      <th>title_status</th>\n",
       "      <th>transmission</th>\n",
       "      <th>VIN</th>\n",
       "      <th>drive</th>\n",
       "      <th>size</th>\n",
       "      <th>type</th>\n",
       "      <th>paint_color</th>\n",
       "      <th>state</th>\n",
       "    </tr>\n",
       "  </thead>\n",
       "  <tbody>\n",
       "    <tr>\n",
       "      <th>0</th>\n",
       "      <td>7222695916</td>\n",
       "      <td>prescott</td>\n",
       "      <td>6000</td>\n",
       "      <td>NaN</td>\n",
       "      <td>NaN</td>\n",
       "      <td>NaN</td>\n",
       "      <td>NaN</td>\n",
       "      <td>NaN</td>\n",
       "      <td>NaN</td>\n",
       "      <td>NaN</td>\n",
       "      <td>NaN</td>\n",
       "      <td>NaN</td>\n",
       "      <td>NaN</td>\n",
       "      <td>NaN</td>\n",
       "      <td>NaN</td>\n",
       "      <td>NaN</td>\n",
       "      <td>NaN</td>\n",
       "      <td>az</td>\n",
       "    </tr>\n",
       "    <tr>\n",
       "      <th>1</th>\n",
       "      <td>7218891961</td>\n",
       "      <td>fayetteville</td>\n",
       "      <td>11900</td>\n",
       "      <td>NaN</td>\n",
       "      <td>NaN</td>\n",
       "      <td>NaN</td>\n",
       "      <td>NaN</td>\n",
       "      <td>NaN</td>\n",
       "      <td>NaN</td>\n",
       "      <td>NaN</td>\n",
       "      <td>NaN</td>\n",
       "      <td>NaN</td>\n",
       "      <td>NaN</td>\n",
       "      <td>NaN</td>\n",
       "      <td>NaN</td>\n",
       "      <td>NaN</td>\n",
       "      <td>NaN</td>\n",
       "      <td>ar</td>\n",
       "    </tr>\n",
       "    <tr>\n",
       "      <th>2</th>\n",
       "      <td>7221797935</td>\n",
       "      <td>florida keys</td>\n",
       "      <td>21000</td>\n",
       "      <td>NaN</td>\n",
       "      <td>NaN</td>\n",
       "      <td>NaN</td>\n",
       "      <td>NaN</td>\n",
       "      <td>NaN</td>\n",
       "      <td>NaN</td>\n",
       "      <td>NaN</td>\n",
       "      <td>NaN</td>\n",
       "      <td>NaN</td>\n",
       "      <td>NaN</td>\n",
       "      <td>NaN</td>\n",
       "      <td>NaN</td>\n",
       "      <td>NaN</td>\n",
       "      <td>NaN</td>\n",
       "      <td>fl</td>\n",
       "    </tr>\n",
       "    <tr>\n",
       "      <th>3</th>\n",
       "      <td>7222270760</td>\n",
       "      <td>worcester / central MA</td>\n",
       "      <td>1500</td>\n",
       "      <td>NaN</td>\n",
       "      <td>NaN</td>\n",
       "      <td>NaN</td>\n",
       "      <td>NaN</td>\n",
       "      <td>NaN</td>\n",
       "      <td>NaN</td>\n",
       "      <td>NaN</td>\n",
       "      <td>NaN</td>\n",
       "      <td>NaN</td>\n",
       "      <td>NaN</td>\n",
       "      <td>NaN</td>\n",
       "      <td>NaN</td>\n",
       "      <td>NaN</td>\n",
       "      <td>NaN</td>\n",
       "      <td>ma</td>\n",
       "    </tr>\n",
       "    <tr>\n",
       "      <th>4</th>\n",
       "      <td>7210384030</td>\n",
       "      <td>greensboro</td>\n",
       "      <td>4900</td>\n",
       "      <td>NaN</td>\n",
       "      <td>NaN</td>\n",
       "      <td>NaN</td>\n",
       "      <td>NaN</td>\n",
       "      <td>NaN</td>\n",
       "      <td>NaN</td>\n",
       "      <td>NaN</td>\n",
       "      <td>NaN</td>\n",
       "      <td>NaN</td>\n",
       "      <td>NaN</td>\n",
       "      <td>NaN</td>\n",
       "      <td>NaN</td>\n",
       "      <td>NaN</td>\n",
       "      <td>NaN</td>\n",
       "      <td>nc</td>\n",
       "    </tr>\n",
       "  </tbody>\n",
       "</table>\n",
       "</div>"
      ],
      "text/plain": [
       "           id                  region  price  year manufacturer model  \\\n",
       "0  7222695916                prescott   6000   NaN          NaN   NaN   \n",
       "1  7218891961            fayetteville  11900   NaN          NaN   NaN   \n",
       "2  7221797935            florida keys  21000   NaN          NaN   NaN   \n",
       "3  7222270760  worcester / central MA   1500   NaN          NaN   NaN   \n",
       "4  7210384030              greensboro   4900   NaN          NaN   NaN   \n",
       "\n",
       "  condition cylinders fuel  odometer title_status transmission  VIN drive  \\\n",
       "0       NaN       NaN  NaN       NaN          NaN          NaN  NaN   NaN   \n",
       "1       NaN       NaN  NaN       NaN          NaN          NaN  NaN   NaN   \n",
       "2       NaN       NaN  NaN       NaN          NaN          NaN  NaN   NaN   \n",
       "3       NaN       NaN  NaN       NaN          NaN          NaN  NaN   NaN   \n",
       "4       NaN       NaN  NaN       NaN          NaN          NaN  NaN   NaN   \n",
       "\n",
       "  size type paint_color state  \n",
       "0  NaN  NaN         NaN    az  \n",
       "1  NaN  NaN         NaN    ar  \n",
       "2  NaN  NaN         NaN    fl  \n",
       "3  NaN  NaN         NaN    ma  \n",
       "4  NaN  NaN         NaN    nc  "
      ]
     },
     "execution_count": 4,
     "metadata": {},
     "output_type": "execute_result"
    }
   ],
   "source": [
    "cars.head()"
   ]
  },
  {
   "cell_type": "code",
   "execution_count": 5,
   "metadata": {},
   "outputs": [
    {
     "data": {
      "text/html": [
       "<div>\n",
       "<style scoped>\n",
       "    .dataframe tbody tr th:only-of-type {\n",
       "        vertical-align: middle;\n",
       "    }\n",
       "\n",
       "    .dataframe tbody tr th {\n",
       "        vertical-align: top;\n",
       "    }\n",
       "\n",
       "    .dataframe thead th {\n",
       "        text-align: right;\n",
       "    }\n",
       "</style>\n",
       "<table border=\"1\" class=\"dataframe\">\n",
       "  <thead>\n",
       "    <tr style=\"text-align: right;\">\n",
       "      <th></th>\n",
       "      <th>id</th>\n",
       "      <th>price</th>\n",
       "      <th>year</th>\n",
       "      <th>odometer</th>\n",
       "    </tr>\n",
       "  </thead>\n",
       "  <tbody>\n",
       "    <tr>\n",
       "      <th>count</th>\n",
       "      <td>4.268800e+05</td>\n",
       "      <td>4.268800e+05</td>\n",
       "      <td>425675.000000</td>\n",
       "      <td>4.224800e+05</td>\n",
       "    </tr>\n",
       "    <tr>\n",
       "      <th>mean</th>\n",
       "      <td>7.311487e+09</td>\n",
       "      <td>7.519903e+04</td>\n",
       "      <td>2011.235191</td>\n",
       "      <td>9.804333e+04</td>\n",
       "    </tr>\n",
       "    <tr>\n",
       "      <th>std</th>\n",
       "      <td>4.473170e+06</td>\n",
       "      <td>1.218228e+07</td>\n",
       "      <td>9.452120</td>\n",
       "      <td>2.138815e+05</td>\n",
       "    </tr>\n",
       "    <tr>\n",
       "      <th>min</th>\n",
       "      <td>7.207408e+09</td>\n",
       "      <td>0.000000e+00</td>\n",
       "      <td>1900.000000</td>\n",
       "      <td>0.000000e+00</td>\n",
       "    </tr>\n",
       "    <tr>\n",
       "      <th>25%</th>\n",
       "      <td>7.308143e+09</td>\n",
       "      <td>5.900000e+03</td>\n",
       "      <td>2008.000000</td>\n",
       "      <td>3.770400e+04</td>\n",
       "    </tr>\n",
       "    <tr>\n",
       "      <th>50%</th>\n",
       "      <td>7.312621e+09</td>\n",
       "      <td>1.395000e+04</td>\n",
       "      <td>2013.000000</td>\n",
       "      <td>8.554800e+04</td>\n",
       "    </tr>\n",
       "    <tr>\n",
       "      <th>75%</th>\n",
       "      <td>7.315254e+09</td>\n",
       "      <td>2.648575e+04</td>\n",
       "      <td>2017.000000</td>\n",
       "      <td>1.335425e+05</td>\n",
       "    </tr>\n",
       "    <tr>\n",
       "      <th>max</th>\n",
       "      <td>7.317101e+09</td>\n",
       "      <td>3.736929e+09</td>\n",
       "      <td>2022.000000</td>\n",
       "      <td>1.000000e+07</td>\n",
       "    </tr>\n",
       "  </tbody>\n",
       "</table>\n",
       "</div>"
      ],
      "text/plain": [
       "                 id         price           year      odometer\n",
       "count  4.268800e+05  4.268800e+05  425675.000000  4.224800e+05\n",
       "mean   7.311487e+09  7.519903e+04    2011.235191  9.804333e+04\n",
       "std    4.473170e+06  1.218228e+07       9.452120  2.138815e+05\n",
       "min    7.207408e+09  0.000000e+00    1900.000000  0.000000e+00\n",
       "25%    7.308143e+09  5.900000e+03    2008.000000  3.770400e+04\n",
       "50%    7.312621e+09  1.395000e+04    2013.000000  8.554800e+04\n",
       "75%    7.315254e+09  2.648575e+04    2017.000000  1.335425e+05\n",
       "max    7.317101e+09  3.736929e+09    2022.000000  1.000000e+07"
      ]
     },
     "execution_count": 5,
     "metadata": {},
     "output_type": "execute_result"
    }
   ],
   "source": [
    "cars.describe()"
   ]
  },
  {
   "cell_type": "markdown",
   "metadata": {},
   "source": [
    "## Fix the NaN\n",
    "So many nan values revealed, check how many total locations have nans.\n",
    "I might be able to simply remove the rows for col of low percentages of NaN values.\n",
    "The features with high Nan values should definitely be examined for possible transformations.\n"
   ]
  },
  {
   "cell_type": "code",
   "execution_count": 6,
   "metadata": {},
   "outputs": [
    {
     "data": {
      "text/plain": [
       "id              0.000000\n",
       "region          0.000000\n",
       "price           0.000000\n",
       "year            0.002823\n",
       "manufacturer    0.041337\n",
       "model           0.012362\n",
       "condition       0.407852\n",
       "cylinders       0.416225\n",
       "fuel            0.007058\n",
       "odometer        0.010307\n",
       "title_status    0.019308\n",
       "transmission    0.005988\n",
       "VIN             0.377254\n",
       "drive           0.305863\n",
       "size            0.717675\n",
       "type            0.217527\n",
       "paint_color     0.305011\n",
       "state           0.000000\n",
       "dtype: float64"
      ]
     },
     "execution_count": 6,
     "metadata": {},
     "output_type": "execute_result"
    }
   ],
   "source": [
    "# view number of nan values as fraction\n",
    "cars.isna().sum() / cars.shape[0]"
   ]
  },
  {
   "cell_type": "code",
   "execution_count": 7,
   "metadata": {},
   "outputs": [
    {
     "data": {
      "text/plain": [
       "392012"
      ]
     },
     "execution_count": 7,
     "metadata": {},
     "output_type": "execute_result"
    }
   ],
   "source": [
    "sum(cars.apply(lambda x: sum(x.isnull().values), axis = 1)>0)"
   ]
  },
  {
   "cell_type": "markdown",
   "metadata": {},
   "source": [
    "# Check the VIN\n",
    "VIN is probably useless data, possibly drop the column since its 37% nan\n",
    "(or do we have duplicate car values)"
   ]
  },
  {
   "cell_type": "code",
   "execution_count": 9,
   "metadata": {},
   "outputs": [
    {
     "name": "stdout",
     "output_type": "stream",
     "text": [
      "[nan '3GTP1VEC4EG551563' '1GCSCSE06AZ123805' '3GCPWCED5LG130317'\n",
      " '5TFRM5F17HX120972' '1GT220CG8CZ231238' '1GCVKREH6GZ228691'\n",
      " '1GCHTCE37G1186784' '1G1YR3DW3B5102190' '1C4BJWDG5HL705371']\n",
      "                id                region  price    year manufacturer  \\\n",
      "27      7316814884                auburn  33590  2014.0          gmc   \n",
      "221     7316422333            birmingham  33590  2014.0          gmc   \n",
      "1847    7315472478                dothan  33590  2014.0          gmc   \n",
      "2309    7316827853      gadsden-anniston  33590  2014.0          gmc   \n",
      "2667    7315513814  huntsville / decatur  33590  2014.0          gmc   \n",
      "...            ...                   ...    ...     ...          ...   \n",
      "397933  7316877834               roanoke  33590  2014.0          gmc   \n",
      "414891  7316930375  appleton-oshkosh-FDL  33590  2014.0          gmc   \n",
      "417051  7316841198             green bay  33590  2014.0          gmc   \n",
      "419686  7316853652               madison  33590  2014.0          gmc   \n",
      "422422  7316143275             milwaukee  33590  2014.0          gmc   \n",
      "\n",
      "                           model condition    cylinders fuel  odometer  \\\n",
      "27      sierra 1500 crew cab slt      good  8 cylinders  gas   57923.0   \n",
      "221     sierra 1500 crew cab slt      good  8 cylinders  gas   57923.0   \n",
      "1847    sierra 1500 crew cab slt      good  8 cylinders  gas   57923.0   \n",
      "2309    sierra 1500 crew cab slt      good  8 cylinders  gas   57923.0   \n",
      "2667    sierra 1500 crew cab slt      good  8 cylinders  gas   57923.0   \n",
      "...                          ...       ...          ...  ...       ...   \n",
      "397933  sierra 1500 crew cab slt      good  8 cylinders  gas   57923.0   \n",
      "414891  sierra 1500 crew cab slt      good  8 cylinders  gas   57923.0   \n",
      "417051  sierra 1500 crew cab slt      good  8 cylinders  gas   57923.0   \n",
      "419686  sierra 1500 crew cab slt      good  8 cylinders  gas   57923.0   \n",
      "422422  sierra 1500 crew cab slt      good  8 cylinders  gas   57923.0   \n",
      "\n",
      "       title_status transmission                VIN drive size    type  \\\n",
      "27            clean        other  3GTP1VEC4EG551563   NaN  NaN  pickup   \n",
      "221           clean        other  3GTP1VEC4EG551563   NaN  NaN  pickup   \n",
      "1847          clean        other  3GTP1VEC4EG551563   NaN  NaN  pickup   \n",
      "2309          clean        other  3GTP1VEC4EG551563   NaN  NaN  pickup   \n",
      "2667          clean        other  3GTP1VEC4EG551563   NaN  NaN  pickup   \n",
      "...             ...          ...                ...   ...  ...     ...   \n",
      "397933        clean        other  3GTP1VEC4EG551563   NaN  NaN  pickup   \n",
      "414891        clean        other  3GTP1VEC4EG551563   NaN  NaN  pickup   \n",
      "417051        clean        other  3GTP1VEC4EG551563   NaN  NaN  pickup   \n",
      "419686        clean        other  3GTP1VEC4EG551563   NaN  NaN  pickup   \n",
      "422422        clean        other  3GTP1VEC4EG551563   NaN  NaN  pickup   \n",
      "\n",
      "       paint_color state  \n",
      "27           white    al  \n",
      "221          white    al  \n",
      "1847         white    al  \n",
      "2309         white    al  \n",
      "2667         white    al  \n",
      "...            ...   ...  \n",
      "397933       white    va  \n",
      "414891       white    wi  \n",
      "417051       white    wi  \n",
      "419686       white    wi  \n",
      "422422       white    wi  \n",
      "\n",
      "[136 rows x 18 columns]\n"
     ]
    }
   ],
   "source": [
    "len(cars['VIN'].unique()) / cars.shape[0]\n",
    "print(cars['VIN'].unique()[:10])\n",
    "print(cars.query('VIN == \"3GTP1VEC4EG551563\"'))"
   ]
  },
  {
   "cell_type": "code",
   "execution_count": 10,
   "metadata": {},
   "outputs": [
    {
     "name": "stdout",
     "output_type": "stream",
     "text": [
      "308633\n",
      "288908\n",
      "2430\n",
      "3590\n"
     ]
    }
   ],
   "source": [
    "# there seems to be duplicates in the data given VIN, and a few inconsistent values with model\n",
    "print(cars.duplicated(['VIN']).sum())\n",
    "print(cars.duplicated(['VIN', 'model']).sum())\n",
    "\n",
    "gb_model = (cars.groupby('VIN')['model'].unique().agg(len) > 1)\n",
    "#print(gb_model)\n",
    "print(gb_model.sum())\n",
    "\n",
    "gb_price = (cars.groupby('VIN')['price'].unique().agg(len) > 1)\n",
    "#print(gb_price)\n",
    "print(gb_price.sum())\n",
    "\n"
   ]
  },
  {
   "cell_type": "markdown",
   "metadata": {},
   "source": [
    "# Dropping VIN and examining \n",
    "\n",
    "There is a small number of duplicates with different models and prices, lets just remove duplicate VINs\n"
   ]
  },
  {
   "cell_type": "code",
   "execution_count": 11,
   "metadata": {},
   "outputs": [
    {
     "data": {
      "text/plain": [
       "id              0.000000\n",
       "region          0.000000\n",
       "price           0.000000\n",
       "year            0.005023\n",
       "manufacturer    0.025946\n",
       "model           0.005962\n",
       "condition       0.483437\n",
       "cylinders       0.405769\n",
       "fuel            0.013861\n",
       "odometer        0.013328\n",
       "title_status    0.030775\n",
       "transmission    0.010461\n",
       "VIN             0.000008\n",
       "drive           0.231287\n",
       "size            0.743672\n",
       "type            0.136875\n",
       "paint_color     0.259482\n",
       "state           0.000000\n",
       "dtype: float64"
      ]
     },
     "execution_count": 11,
     "metadata": {},
     "output_type": "execute_result"
    }
   ],
   "source": [
    "cars_ddvin = cars.drop_duplicates('VIN')\n",
    "cars_ddvin.isna().sum() / cars_ddvin.shape[0]"
   ]
  },
  {
   "cell_type": "code",
   "execution_count": 12,
   "metadata": {},
   "outputs": [
    {
     "name": "stdout",
     "output_type": "stream",
     "text": [
      "<class 'pandas.core.frame.DataFrame'>\n",
      "Int64Index: 118247 entries, 0 to 426833\n",
      "Data columns (total 18 columns):\n",
      " #   Column        Non-Null Count   Dtype  \n",
      "---  ------        --------------   -----  \n",
      " 0   id            118247 non-null  int64  \n",
      " 1   region        118247 non-null  object \n",
      " 2   price         118247 non-null  int64  \n",
      " 3   year          117653 non-null  float64\n",
      " 4   manufacturer  115179 non-null  object \n",
      " 5   model         117542 non-null  object \n",
      " 6   condition     61082 non-null   object \n",
      " 7   cylinders     70266 non-null   object \n",
      " 8   fuel          116608 non-null  object \n",
      " 9   odometer      116671 non-null  float64\n",
      " 10  title_status  114608 non-null  object \n",
      " 11  transmission  117010 non-null  object \n",
      " 12  VIN           118246 non-null  object \n",
      " 13  drive         90898 non-null   object \n",
      " 14  size          30310 non-null   object \n",
      " 15  type          102062 non-null  object \n",
      " 16  paint_color   87564 non-null   object \n",
      " 17  state         118247 non-null  object \n",
      "dtypes: float64(2), int64(2), object(14)\n",
      "memory usage: 17.1+ MB\n"
     ]
    }
   ],
   "source": [
    "cars_ddvin.info()"
   ]
  },
  {
   "cell_type": "markdown",
   "metadata": {},
   "source": [
    "# Verify data\n",
    "Verifying that dropping VIN did not affect the mean too much.\n",
    "Unfortunately it does but as we see later there are some outlier prices as seen in 'max'.\n",
    "Then I check how much data we will have after dropping na for all other colums\n"
   ]
  },
  {
   "cell_type": "code",
   "execution_count": 50,
   "metadata": {},
   "outputs": [
    {
     "name": "stdout",
     "output_type": "stream",
     "text": [
      "                 id         price           year      odometer\n",
      "count  1.182470e+05  1.182470e+05  117653.000000  1.166710e+05\n",
      "mean   7.312179e+09  1.782777e+04    2012.661037  9.013283e+04\n",
      "std    4.239264e+06  3.599125e+05       6.808482  9.664870e+04\n",
      "min    7.222696e+09  0.000000e+00    1900.000000  0.000000e+00\n",
      "25%    7.309408e+09  6.000000e+03    2010.000000  4.022550e+04\n",
      "50%    7.313622e+09  1.322200e+04    2014.000000  8.441400e+04\n",
      "75%    7.315626e+09  2.398800e+04    2017.000000  1.266595e+05\n",
      "max    7.317099e+09  1.234568e+08    2022.000000  1.000000e+07\n",
      "                 id         price           year      odometer\n",
      "count  4.268800e+05  4.268800e+05  425675.000000  4.224800e+05\n",
      "mean   7.311487e+09  7.519903e+04    2011.235191  9.804333e+04\n",
      "std    4.473170e+06  1.218228e+07       9.452120  2.138815e+05\n",
      "min    7.207408e+09  0.000000e+00    1900.000000  0.000000e+00\n",
      "25%    7.308143e+09  5.900000e+03    2008.000000  3.770400e+04\n",
      "50%    7.312621e+09  1.395000e+04    2013.000000  8.554800e+04\n",
      "75%    7.315254e+09  2.648575e+04    2017.000000  1.335425e+05\n",
      "max    7.317101e+09  3.736929e+09    2022.000000  1.000000e+07\n"
     ]
    },
    {
     "data": {
      "text/html": [
       "<div>\n",
       "<style scoped>\n",
       "    .dataframe tbody tr th:only-of-type {\n",
       "        vertical-align: middle;\n",
       "    }\n",
       "\n",
       "    .dataframe tbody tr th {\n",
       "        vertical-align: top;\n",
       "    }\n",
       "\n",
       "    .dataframe thead th {\n",
       "        text-align: right;\n",
       "    }\n",
       "</style>\n",
       "<table border=\"1\" class=\"dataframe\">\n",
       "  <thead>\n",
       "    <tr style=\"text-align: right;\">\n",
       "      <th></th>\n",
       "      <th>id</th>\n",
       "      <th>price</th>\n",
       "      <th>year</th>\n",
       "      <th>odometer</th>\n",
       "    </tr>\n",
       "  </thead>\n",
       "  <tbody>\n",
       "    <tr>\n",
       "      <th>count</th>\n",
       "      <td>-3.086330e+05</td>\n",
       "      <td>-3.086330e+05</td>\n",
       "      <td>-308022.000000</td>\n",
       "      <td>-305809.000000</td>\n",
       "    </tr>\n",
       "    <tr>\n",
       "      <th>mean</th>\n",
       "      <td>6.924832e+05</td>\n",
       "      <td>-5.737126e+04</td>\n",
       "      <td>1.425846</td>\n",
       "      <td>-7910.504365</td>\n",
       "    </tr>\n",
       "    <tr>\n",
       "      <th>std</th>\n",
       "      <td>-2.339060e+05</td>\n",
       "      <td>-1.182237e+07</td>\n",
       "      <td>-2.643638</td>\n",
       "      <td>-117232.801399</td>\n",
       "    </tr>\n",
       "    <tr>\n",
       "      <th>min</th>\n",
       "      <td>1.528780e+07</td>\n",
       "      <td>0.000000e+00</td>\n",
       "      <td>0.000000</td>\n",
       "      <td>0.000000</td>\n",
       "    </tr>\n",
       "    <tr>\n",
       "      <th>25%</th>\n",
       "      <td>1.264492e+06</td>\n",
       "      <td>1.000000e+02</td>\n",
       "      <td>2.000000</td>\n",
       "      <td>2521.500000</td>\n",
       "    </tr>\n",
       "    <tr>\n",
       "      <th>50%</th>\n",
       "      <td>1.000974e+06</td>\n",
       "      <td>-7.280000e+02</td>\n",
       "      <td>1.000000</td>\n",
       "      <td>-1134.000000</td>\n",
       "    </tr>\n",
       "    <tr>\n",
       "      <th>75%</th>\n",
       "      <td>3.720315e+05</td>\n",
       "      <td>-2.497750e+03</td>\n",
       "      <td>0.000000</td>\n",
       "      <td>-6883.000000</td>\n",
       "    </tr>\n",
       "    <tr>\n",
       "      <th>max</th>\n",
       "      <td>-2.094000e+03</td>\n",
       "      <td>-3.613472e+09</td>\n",
       "      <td>0.000000</td>\n",
       "      <td>0.000000</td>\n",
       "    </tr>\n",
       "  </tbody>\n",
       "</table>\n",
       "</div>"
      ],
      "text/plain": [
       "                 id         price           year       odometer\n",
       "count -3.086330e+05 -3.086330e+05 -308022.000000 -305809.000000\n",
       "mean   6.924832e+05 -5.737126e+04       1.425846   -7910.504365\n",
       "std   -2.339060e+05 -1.182237e+07      -2.643638 -117232.801399\n",
       "min    1.528780e+07  0.000000e+00       0.000000       0.000000\n",
       "25%    1.264492e+06  1.000000e+02       2.000000    2521.500000\n",
       "50%    1.000974e+06 -7.280000e+02       1.000000   -1134.000000\n",
       "75%    3.720315e+05 -2.497750e+03       0.000000   -6883.000000\n",
       "max   -2.094000e+03 -3.613472e+09       0.000000       0.000000"
      ]
     },
     "execution_count": 50,
     "metadata": {},
     "output_type": "execute_result"
    }
   ],
   "source": [
    "print(cars_ddvin.describe())\n",
    "print(cars.describe())\n",
    "cars_ddvin.describe() - cars.describe()"
   ]
  },
  {
   "cell_type": "code",
   "execution_count": 14,
   "metadata": {},
   "outputs": [
    {
     "name": "stdout",
     "output_type": "stream",
     "text": [
      "<class 'pandas.core.frame.DataFrame'>\n",
      "Int64Index: 21741 entries, 126 to 426833\n",
      "Data columns (total 18 columns):\n",
      " #   Column        Non-Null Count  Dtype  \n",
      "---  ------        --------------  -----  \n",
      " 0   id            21741 non-null  int64  \n",
      " 1   region        21741 non-null  object \n",
      " 2   price         21741 non-null  int64  \n",
      " 3   year          21741 non-null  float64\n",
      " 4   manufacturer  21741 non-null  object \n",
      " 5   model         21741 non-null  object \n",
      " 6   condition     21741 non-null  object \n",
      " 7   cylinders     21741 non-null  object \n",
      " 8   fuel          21741 non-null  object \n",
      " 9   odometer      21741 non-null  float64\n",
      " 10  title_status  21741 non-null  object \n",
      " 11  transmission  21741 non-null  object \n",
      " 12  VIN           21741 non-null  object \n",
      " 13  drive         21741 non-null  object \n",
      " 14  size          21741 non-null  object \n",
      " 15  type          21741 non-null  object \n",
      " 16  paint_color   21741 non-null  object \n",
      " 17  state         21741 non-null  object \n",
      "dtypes: float64(2), int64(2), object(14)\n",
      "memory usage: 3.2+ MB\n",
      "None\n"
     ]
    }
   ],
   "source": [
    "print(cars_ddvin.dropna().info())"
   ]
  },
  {
   "cell_type": "markdown",
   "metadata": {},
   "source": [
    "# Transform instead of drop\n",
    "\n",
    "I now determine if some of these high nan count features can be transformed instead of deleted\n",
    "Its reasonable to assume that 'model' values can be used to propgate to features that are structural like 'size', 'type', 'drive', and 'cylinders'"
   ]
  },
  {
   "cell_type": "code",
   "execution_count": 51,
   "metadata": {},
   "outputs": [
    {
     "name": "stdout",
     "output_type": "stream",
     "text": [
      "condition [nan 'good' 'excellent' 'fair' 'like new' 'new' 'salvage']\n",
      "cylinders [nan '8 cylinders' '6 cylinders' '4 cylinders' '5 cylinders' 'other'\n",
      " '3 cylinders' '10 cylinders' '12 cylinders']\n",
      "drive [nan 'rwd' '4wd' 'fwd']\n",
      "size [nan 'full-size' 'mid-size' 'compact' 'sub-compact']\n",
      "type [nan 'pickup' 'truck' 'other' 'coupe' 'SUV' 'hatchback' 'mini-van' 'sedan'\n",
      " 'offroad' 'bus' 'van' 'convertible' 'wagon']\n",
      "paint_color [nan 'white' 'blue' 'red' 'black' 'silver' 'grey' 'brown' 'yellow'\n",
      " 'orange' 'green' 'custom' 'purple']\n"
     ]
    }
   ],
   "source": [
    "for col in ['condition', 'cylinders', 'drive', 'size', 'type', 'paint_color']:\n",
    "    print(col, cars[col].unique())"
   ]
  },
  {
   "cell_type": "code",
   "execution_count": 16,
   "metadata": {},
   "outputs": [
    {
     "name": "stdout",
     "output_type": "stream",
     "text": [
      "<class 'pandas.core.frame.DataFrame'>\n",
      "<class 'pandas.core.frame.DataFrame'>\n",
      "Int64Index: 117542 entries, 27 to 426833\n",
      "Data columns (total 4 columns):\n",
      " #   Column     Non-Null Count   Dtype \n",
      "---  ------     --------------   ----- \n",
      " 0   size       89743 non-null   object\n",
      " 1   type       114946 non-null  object\n",
      " 2   drive      111211 non-null  object\n",
      " 3   cylinders  106704 non-null  object\n",
      "dtypes: object(4)\n",
      "memory usage: 8.5+ MB\n"
     ]
    }
   ],
   "source": [
    "# Perhaps the model can be used to predict the size and others, if we groupby model we may save some size dataa\n",
    "obj = cars_ddvin.groupby('model')[['size', 'type', 'drive', 'cylinders']].fillna(method='ffill')\n",
    "print(type(obj))\n",
    "obj.info()"
   ]
  },
  {
   "cell_type": "code",
   "execution_count": 17,
   "metadata": {},
   "outputs": [
    {
     "name": "stdout",
     "output_type": "stream",
     "text": [
      "<class 'pandas.core.frame.DataFrame'>\n",
      "Int64Index: 118247 entries, 0 to 426833\n",
      "Data columns (total 18 columns):\n",
      " #   Column        Non-Null Count   Dtype  \n",
      "---  ------        --------------   -----  \n",
      " 0   id            118247 non-null  int64  \n",
      " 1   region        118247 non-null  object \n",
      " 2   price         118247 non-null  int64  \n",
      " 3   year          117653 non-null  float64\n",
      " 4   manufacturer  115179 non-null  object \n",
      " 5   model         117542 non-null  object \n",
      " 6   condition     61082 non-null   object \n",
      " 7   cylinders     107122 non-null  object \n",
      " 8   fuel          116608 non-null  object \n",
      " 9   odometer      116671 non-null  float64\n",
      " 10  title_status  114608 non-null  object \n",
      " 11  transmission  117010 non-null  object \n",
      " 12  VIN           118246 non-null  object \n",
      " 13  drive         111813 non-null  object \n",
      " 14  size          90059 non-null   object \n",
      " 15  type          115550 non-null  object \n",
      " 16  paint_color   87564 non-null   object \n",
      " 17  state         118247 non-null  object \n",
      "dtypes: float64(2), int64(2), object(14)\n",
      "memory usage: 21.2+ MB\n"
     ]
    }
   ],
   "source": [
    "# Replace the original nans\n",
    "cars_ddvin_fillna = cars_ddvin.fillna(obj)\n",
    "cars_ddvin_fillna.info()"
   ]
  },
  {
   "cell_type": "code",
   "execution_count": 18,
   "metadata": {},
   "outputs": [
    {
     "name": "stdout",
     "output_type": "stream",
     "text": [
      "<class 'pandas.core.frame.DataFrame'>\n",
      "Int64Index: 37117 entries, 126 to 426833\n",
      "Data columns (total 18 columns):\n",
      " #   Column        Non-Null Count  Dtype  \n",
      "---  ------        --------------  -----  \n",
      " 0   id            37117 non-null  int64  \n",
      " 1   region        37117 non-null  object \n",
      " 2   price         37117 non-null  int64  \n",
      " 3   year          37117 non-null  float64\n",
      " 4   manufacturer  37117 non-null  object \n",
      " 5   model         37117 non-null  object \n",
      " 6   condition     37117 non-null  object \n",
      " 7   cylinders     37117 non-null  object \n",
      " 8   fuel          37117 non-null  object \n",
      " 9   odometer      37117 non-null  float64\n",
      " 10  title_status  37117 non-null  object \n",
      " 11  transmission  37117 non-null  object \n",
      " 12  VIN           37117 non-null  object \n",
      " 13  drive         37117 non-null  object \n",
      " 14  size          37117 non-null  object \n",
      " 15  type          37117 non-null  object \n",
      " 16  paint_color   37117 non-null  object \n",
      " 17  state         37117 non-null  object \n",
      "dtypes: float64(2), int64(2), object(14)\n",
      "memory usage: 5.4+ MB\n"
     ]
    }
   ],
   "source": [
    "# see what happens when we drop the rest of rows with NaNs\n",
    "cars_ddvin_fillna_dropna = cars_ddvin_fillna.dropna()\n",
    "cars_ddvin_fillna_dropna.info()"
   ]
  },
  {
   "cell_type": "code",
   "execution_count": 19,
   "metadata": {},
   "outputs": [
    {
     "name": "stdout",
     "output_type": "stream",
     "text": [
      "                 id         price           year      odometer\n",
      "count  1.182470e+05  1.182470e+05  117653.000000  1.166710e+05\n",
      "mean   7.312179e+09  1.782777e+04    2012.661037  9.013283e+04\n",
      "std    4.239264e+06  3.599125e+05       6.808482  9.664870e+04\n",
      "min    7.222696e+09  0.000000e+00    1900.000000  0.000000e+00\n",
      "25%    7.309408e+09  6.000000e+03    2010.000000  4.022550e+04\n",
      "50%    7.313622e+09  1.322200e+04    2014.000000  8.441400e+04\n",
      "75%    7.315626e+09  2.398800e+04    2017.000000  1.266595e+05\n",
      "max    7.317099e+09  1.234568e+08    2022.000000  1.000000e+07\n"
     ]
    },
    {
     "data": {
      "text/html": [
       "<div>\n",
       "<style scoped>\n",
       "    .dataframe tbody tr th:only-of-type {\n",
       "        vertical-align: middle;\n",
       "    }\n",
       "\n",
       "    .dataframe tbody tr th {\n",
       "        vertical-align: top;\n",
       "    }\n",
       "\n",
       "    .dataframe thead th {\n",
       "        text-align: right;\n",
       "    }\n",
       "</style>\n",
       "<table border=\"1\" class=\"dataframe\">\n",
       "  <thead>\n",
       "    <tr style=\"text-align: right;\">\n",
       "      <th></th>\n",
       "      <th>id</th>\n",
       "      <th>price</th>\n",
       "      <th>year</th>\n",
       "      <th>odometer</th>\n",
       "    </tr>\n",
       "  </thead>\n",
       "  <tbody>\n",
       "    <tr>\n",
       "      <th>count</th>\n",
       "      <td>8.113000e+04</td>\n",
       "      <td>81130.000000</td>\n",
       "      <td>80536.000000</td>\n",
       "      <td>79554.000000</td>\n",
       "    </tr>\n",
       "    <tr>\n",
       "      <th>mean</th>\n",
       "      <td>2.876484e+04</td>\n",
       "      <td>717.188501</td>\n",
       "      <td>1.579161</td>\n",
       "      <td>-16758.332930</td>\n",
       "    </tr>\n",
       "    <tr>\n",
       "      <th>std</th>\n",
       "      <td>1.006123e+05</td>\n",
       "      <td>-280937.408046</td>\n",
       "      <td>-0.325137</td>\n",
       "      <td>-1620.188591</td>\n",
       "    </tr>\n",
       "    <tr>\n",
       "      <th>min</th>\n",
       "      <td>-7.889233e+07</td>\n",
       "      <td>0.000000</td>\n",
       "      <td>-5.000000</td>\n",
       "      <td>0.000000</td>\n",
       "    </tr>\n",
       "    <tr>\n",
       "      <th>25%</th>\n",
       "      <td>-1.093585e+05</td>\n",
       "      <td>1.000000</td>\n",
       "      <td>2.000000</td>\n",
       "      <td>-24774.500000</td>\n",
       "    </tr>\n",
       "    <tr>\n",
       "      <th>50%</th>\n",
       "      <td>1.591590e+05</td>\n",
       "      <td>2322.000000</td>\n",
       "      <td>2.000000</td>\n",
       "      <td>-19456.000000</td>\n",
       "    </tr>\n",
       "    <tr>\n",
       "      <th>75%</th>\n",
       "      <td>1.563400e+05</td>\n",
       "      <td>5993.000000</td>\n",
       "      <td>2.000000</td>\n",
       "      <td>-14595.500000</td>\n",
       "    </tr>\n",
       "    <tr>\n",
       "      <th>max</th>\n",
       "      <td>0.000000e+00</td>\n",
       "      <td>0.000000</td>\n",
       "      <td>0.000000</td>\n",
       "      <td>1.000000</td>\n",
       "    </tr>\n",
       "  </tbody>\n",
       "</table>\n",
       "</div>"
      ],
      "text/plain": [
       "                 id          price          year      odometer\n",
       "count  8.113000e+04   81130.000000  80536.000000  79554.000000\n",
       "mean   2.876484e+04     717.188501      1.579161 -16758.332930\n",
       "std    1.006123e+05 -280937.408046     -0.325137  -1620.188591\n",
       "min   -7.889233e+07       0.000000     -5.000000      0.000000\n",
       "25%   -1.093585e+05       1.000000      2.000000 -24774.500000\n",
       "50%    1.591590e+05    2322.000000      2.000000 -19456.000000\n",
       "75%    1.563400e+05    5993.000000      2.000000 -14595.500000\n",
       "max    0.000000e+00       0.000000      0.000000      1.000000"
      ]
     },
     "execution_count": 19,
     "metadata": {},
     "output_type": "execute_result"
    }
   ],
   "source": [
    "print(cars_ddvin_fillna.describe())\n",
    "cars_ddvin_fillna.describe() - cars_ddvin_fillna_dropna.describe()"
   ]
  },
  {
   "cell_type": "markdown",
   "metadata": {},
   "source": [
    "# Satisfied NaNs\n",
    "I think it looks good, we got back 15,000+ data points by filling na values with same 'model' types.\n",
    "The mean values are not that different so we didn't bias the price/year/odometer but the other features\n",
    "could have been biased.  Some data entries may be bad from some given location/manufacturere depending how collected."
   ]
  },
  {
   "cell_type": "code",
   "execution_count": 53,
   "metadata": {},
   "outputs": [
    {
     "name": "stdout",
     "output_type": "stream",
     "text": [
      "region 390\n",
      "manufacturer 41\n",
      "model 5075\n",
      "condition 6\n",
      "cylinders 8\n",
      "fuel 5\n",
      "title_status 6\n",
      "transmission 3\n",
      "VIN 37117\n",
      "drive 3\n",
      "size 4\n",
      "type 13\n",
      "paint_color 12\n",
      "state 51\n"
     ]
    }
   ],
   "source": [
    "obj_col = list(cars_ddvin_fillna_dropna.select_dtypes(include=['object']).columns)\n",
    "for col in obj_col:\n",
    "    ulen = len(cars_ddvin_fillna_dropna[col].unique())\n",
    "    print(col, ulen)"
   ]
  },
  {
   "cell_type": "markdown",
   "metadata": {},
   "source": [
    "# Manufacturer Models\n",
    "Determine why so many models, look for close values\n",
    "(try manufacturer as well)\n"
   ]
  },
  {
   "cell_type": "code",
   "execution_count": 22,
   "metadata": {},
   "outputs": [
    {
     "name": "stdout",
     "output_type": "stream",
     "text": [
      "manufacturer  model                 \n",
      "ford          f-150                     23\n",
      "chevrolet     silverado 1500            20\n",
      "ram           1500                      12\n",
      "jeep          grand cherokee            12\n",
      "honda         accord                    10\n",
      "                                        ..\n",
      "ford          f450                       1\n",
      "              f350 crew cab              1\n",
      "              f350 4 wd dull/4dr         1\n",
      "              f250 super duty lariat     1\n",
      "volvo         xc90 awd                   1\n",
      "Length: 563, dtype: int64\n",
      "238\n",
      "172\n",
      "167\n",
      "167\n",
      "167\n",
      "manufacturer   model                    \n",
      "chevrolet      silverado 2500hd lt          48\n",
      "ford           f550                         44\n",
      "jeep           grand cherokee laredo 4x4    21\n",
      "gmc            silverado 2500hd lt          21\n",
      "ram            f550                         18\n",
      "                                            ..\n",
      "mercedes-benz  grand caravan                 1\n",
      "               glc300 glc 300                1\n",
      "               f550                          1\n",
      "               e430 awd sedan 4d             1\n",
      "infiniti       m35 base                      1\n",
      "Length: 264, dtype: int64\n"
     ]
    }
   ],
   "source": [
    "\n",
    "#col = 'manufacturer'\n",
    "col = 'model'\n",
    "tmpdf = cars_ddvin_fillna_dropna[['manufacturer', 'model']].sample(n=1000)\n",
    "\n",
    "print(tmpdf.value_counts())\n",
    "for i in range(5):\n",
    "    close_match = tmpdf[col].apply(lambda x: (x, difflib.get_close_matches(x, tmpdf[tmpdf[col] != x][col])))\n",
    "    # what-if we replaced with close_matches, how many models would we have?\n",
    "    for x, y in close_match:\n",
    "        if (len(y) > 0):\n",
    "            #print (x)\n",
    "            tmpdf[col] = tmpdf[col].replace(x, y[0])\n",
    "\n",
    "    print(len(tmpdf[col].unique()))\n",
    "\n",
    "print(tmpdf.value_counts())\n",
    "\n"
   ]
  },
  {
   "cell_type": "markdown",
   "metadata": {},
   "source": [
    "# Final cut...\n",
    "There are too many models to be meaningful.  perhaps a model per manufacturer study could be had.\n",
    "This probably should be done before dropping duplicates.\n",
    "My goal is going to be find as many valid data entries and keep as many features as possible.\n",
    "I have an idea that once a good regression model is built and a smaller feature list is dicovered, then go back and validate with more data where those rows may have been removed because of other features having Nan values?\n",
    "\n",
    "Once unnecessary features are removed (for reasons that there are just too many categories) we can convert the remaining 'object' types using \"get_dummies\"."
   ]
  },
  {
   "cell_type": "code",
   "execution_count": 23,
   "metadata": {},
   "outputs": [
    {
     "name": "stdout",
     "output_type": "stream",
     "text": [
      "['manufacturer', 'condition', 'cylinders', 'fuel', 'title_status', 'transmission', 'drive', 'size', 'type', 'paint_color', 'state']\n",
      "<class 'pandas.core.frame.DataFrame'>\n",
      "Int64Index: 37117 entries, 126 to 426833\n",
      "Columns: 152 entries, manufacturer_acura to state_wy\n",
      "dtypes: uint8(152)\n",
      "memory usage: 5.7 MB\n",
      "None\n",
      "(37117, 152)\n",
      "(37117, 155)\n",
      "Index(['price', 'year', 'odometer', 'manufacturer_acura',\n",
      "       'manufacturer_alfa-romeo', 'manufacturer_aston-martin',\n",
      "       'manufacturer_audi', 'manufacturer_bmw', 'manufacturer_buick',\n",
      "       'manufacturer_cadillac',\n",
      "       ...\n",
      "       'state_sd', 'state_tn', 'state_tx', 'state_ut', 'state_va', 'state_vt',\n",
      "       'state_wa', 'state_wi', 'state_wv', 'state_wy'],\n",
      "      dtype='object', length=155)\n"
     ]
    }
   ],
   "source": [
    "# Drop model(too many) region(too many), ID, and VIN \n",
    "final_cols = cars_ddvin_fillna_dropna.drop(['model', 'region', 'id', 'VIN'], axis=1)\n",
    "\n",
    "# I think it will be difficult to use manufaturer or state as a feature.\n",
    "\n",
    "# Use one-hot encoding on rest of objects\n",
    "final_obj_cols = list(final_cols.select_dtypes(include=['object']).columns)\n",
    "print(final_obj_cols)\n",
    "tmp_df = pd.get_dummies(final_cols[final_obj_cols])\n",
    "tmp_df.head()\n",
    "print(tmp_df.info())\n",
    "print(tmp_df.shape)\n",
    "\n",
    "final = final_cols.drop(final_obj_cols, axis=1)\n",
    "final = final.join(tmp_df)\n",
    "print(final.shape)\n",
    "print(final.columns)"
   ]
  },
  {
   "cell_type": "markdown",
   "metadata": {},
   "source": [
    "### Data Preparation\n",
    "\n",
    "After our initial exploration and fine tuning of the business understanding, it is time to construct our final dataset prior to modeling.  Here, we want to make sure to handle any integrity issues and cleaning, the engineering of new features, any transformations that we believe should happen (scaling, logarithms, normalization, etc.), and general preparation for modeling with `sklearn`. "
   ]
  },
  {
   "cell_type": "code",
   "execution_count": 24,
   "metadata": {},
   "outputs": [],
   "source": [
    "price = final['price']\n",
    "dataf = final.drop('price', axis=1)\n",
    "\n",
    "X_train, X_test, y_train, y_test = train_test_split(dataf, price, random_state=42, test_size=0.3)"
   ]
  },
  {
   "cell_type": "code",
   "execution_count": 25,
   "metadata": {},
   "outputs": [],
   "source": [
    "# most of the work was performed already in the previous section"
   ]
  },
  {
   "cell_type": "code",
   "execution_count": null,
   "metadata": {},
   "outputs": [],
   "source": []
  },
  {
   "cell_type": "code",
   "execution_count": null,
   "metadata": {},
   "outputs": [],
   "source": []
  },
  {
   "cell_type": "code",
   "execution_count": null,
   "metadata": {},
   "outputs": [],
   "source": []
  },
  {
   "cell_type": "markdown",
   "metadata": {},
   "source": [
    "### Modeling\n",
    "\n",
    "With your (almost?) final dataset in hand, it is now time to build some models.  Here, you should build a number of different regression models with the price as the target.  In building your models, you should explore different parameters and be sure to cross-validate your findings."
   ]
  },
  {
   "cell_type": "code",
   "execution_count": 26,
   "metadata": {},
   "outputs": [
    {
     "name": "stdout",
     "output_type": "stream",
     "text": [
      "Train MSE: 88769297.83260603\n",
      "Test MSE: 1368469926629.2068\n"
     ]
    }
   ],
   "source": [
    "# Try a simple linear regression\n",
    "linreg = LinearRegression()\n",
    "linreg.fit(X_train, y_train)\n",
    "train_preds = linreg.predict(X_train)\n",
    "test_preds = linreg.predict(X_test)\n",
    "selector_train_mse = mean_squared_error(y_train, train_preds)\n",
    "selector_test_mse = mean_squared_error(y_test, test_preds)\n",
    "\n",
    "print(f'Train MSE: {selector_train_mse}')\n",
    "print(f'Test MSE: {selector_test_mse}')"
   ]
  },
  {
   "cell_type": "code",
   "execution_count": 27,
   "metadata": {},
   "outputs": [],
   "source": [
    "# Try to find a set of features that influence price using method found in codio 9.7 using gridsearchcv\n",
    "selector_pipe = Pipeline([('selector', SequentialFeatureSelector(LinearRegression())),\n",
    "                         ('model', LinearRegression())])"
   ]
  },
  {
   "cell_type": "code",
   "execution_count": 28,
   "metadata": {},
   "outputs": [
    {
     "name": "stdout",
     "output_type": "stream",
     "text": [
      "Fitting 5 folds for each of 4 candidates, totalling 20 fits\n",
      "[CV] END ...................selector__n_features_to_select=2; total time=   2.2s\n",
      "[CV] END ...................selector__n_features_to_select=2; total time=   2.2s\n",
      "[CV] END ...................selector__n_features_to_select=2; total time=   2.2s\n",
      "[CV] END ...................selector__n_features_to_select=2; total time=   2.2s\n",
      "[CV] END ...................selector__n_features_to_select=2; total time=   2.3s\n",
      "[CV] END ...................selector__n_features_to_select=3; total time=   3.8s\n",
      "[CV] END ...................selector__n_features_to_select=3; total time=   4.1s\n",
      "[CV] END ...................selector__n_features_to_select=3; total time=   4.0s\n",
      "[CV] END ...................selector__n_features_to_select=3; total time=   4.1s\n",
      "[CV] END ...................selector__n_features_to_select=3; total time=   3.8s\n",
      "[CV] END ...................selector__n_features_to_select=4; total time=   5.2s\n",
      "[CV] END ...................selector__n_features_to_select=4; total time=   5.2s\n",
      "[CV] END ...................selector__n_features_to_select=4; total time=   5.9s\n",
      "[CV] END ...................selector__n_features_to_select=4; total time=   5.6s\n",
      "[CV] END ...................selector__n_features_to_select=4; total time=   5.9s\n",
      "[CV] END ...................selector__n_features_to_select=5; total time=   8.1s\n",
      "[CV] END ...................selector__n_features_to_select=5; total time=   8.4s\n",
      "[CV] END ...................selector__n_features_to_select=5; total time=   9.6s\n",
      "[CV] END ...................selector__n_features_to_select=5; total time=  10.0s\n",
      "[CV] END ...................selector__n_features_to_select=5; total time=   8.3s\n",
      "Train MSE: 107273799.46556972\n",
      "Test MSE: 1368447160535.007\n"
     ]
    }
   ],
   "source": [
    "param_dict = {'selector__n_features_to_select': [2, 3, 4, 5]}\n",
    "selector_grid = GridSearchCV(selector_pipe, param_grid=param_dict, verbose=2)\n",
    "selector_grid.fit(X_train, y_train)\n",
    "train_preds = selector_grid.predict(X_train)\n",
    "test_preds = selector_grid.predict(X_test)\n",
    "selector_train_mse = mean_squared_error(y_train, train_preds)\n",
    "selector_test_mse = mean_squared_error(y_test, test_preds)\n",
    "\n",
    "print(f'Train MSE: {selector_train_mse}')\n",
    "print(f'Test MSE: {selector_test_mse}')"
   ]
  },
  {
   "cell_type": "code",
   "execution_count": 29,
   "metadata": {},
   "outputs": [
    {
     "name": "stdout",
     "output_type": "stream",
     "text": [
      "Pipeline(steps=[('selector',\n",
      "                 SequentialFeatureSelector(estimator=LinearRegression(),\n",
      "                                           n_features_to_select=5)),\n",
      "                ('model', LinearRegression())])\n",
      "Features from best selector: Index(['year', 'condition_like new', 'cylinders_8 cylinders', 'fuel_diesel',\n",
      "       'drive_fwd'],\n",
      "      dtype='object').\n",
      "Coefficient values: \n",
      "===================\n"
     ]
    },
    {
     "data": {
      "text/html": [
       "<div>\n",
       "<style scoped>\n",
       "    .dataframe tbody tr th:only-of-type {\n",
       "        vertical-align: middle;\n",
       "    }\n",
       "\n",
       "    .dataframe tbody tr th {\n",
       "        vertical-align: top;\n",
       "    }\n",
       "\n",
       "    .dataframe thead th {\n",
       "        text-align: right;\n",
       "    }\n",
       "</style>\n",
       "<table border=\"1\" class=\"dataframe\">\n",
       "  <thead>\n",
       "    <tr style=\"text-align: right;\">\n",
       "      <th></th>\n",
       "      <th>year</th>\n",
       "      <th>condition_like new</th>\n",
       "      <th>cylinders_8 cylinders</th>\n",
       "      <th>fuel_diesel</th>\n",
       "      <th>drive_fwd</th>\n",
       "    </tr>\n",
       "  </thead>\n",
       "  <tbody>\n",
       "    <tr>\n",
       "      <th>model</th>\n",
       "      <td>485.102969</td>\n",
       "      <td>4865.768533</td>\n",
       "      <td>5465.746419</td>\n",
       "      <td>11891.416352</td>\n",
       "      <td>-5466.776708</td>\n",
       "    </tr>\n",
       "  </tbody>\n",
       "</table>\n",
       "</div>"
      ],
      "text/plain": [
       "             year  condition_like new  cylinders_8 cylinders   fuel_diesel  \\\n",
       "model  485.102969         4865.768533            5465.746419  11891.416352   \n",
       "\n",
       "         drive_fwd  \n",
       "model -5466.776708  "
      ]
     },
     "execution_count": 29,
     "metadata": {},
     "output_type": "execute_result"
    }
   ],
   "source": [
    "# Code from 9.7\n",
    "# Comparing to linear regression the Test MSE was much better.\n",
    "best_estimator = selector_grid.best_estimator_\n",
    "best_selector = best_estimator.named_steps['selector']\n",
    "best_model = selector_grid.best_estimator_.named_steps['model']\n",
    "feature_names = X_train.columns[best_selector.get_support()]\n",
    "coefs = best_model.coef_\n",
    "\n",
    "print(best_estimator)\n",
    "print(f'Features from best selector: {feature_names}.')\n",
    "print('Coefficient values: ')\n",
    "print('===================')\n",
    "pd.DataFrame([coefs.T], columns = feature_names, index = ['model'])"
   ]
  },
  {
   "cell_type": "code",
   "execution_count": null,
   "metadata": {},
   "outputs": [],
   "source": []
  },
  {
   "cell_type": "code",
   "execution_count": 30,
   "metadata": {},
   "outputs": [
    {
     "name": "stdout",
     "output_type": "stream",
     "text": [
      "Fitting 5 folds for each of 50 candidates, totalling 250 fits\n",
      "[CV] END ...................................ridge__alpha=1.0; total time=   0.0s\n",
      "[CV] END ...................................ridge__alpha=1.0; total time=   0.0s\n",
      "[CV] END ...................................ridge__alpha=1.0; total time=   0.0s\n",
      "[CV] END ...................................ridge__alpha=1.0; total time=   0.0s\n",
      "[CV] END ...................................ridge__alpha=1.0; total time=   0.0s\n",
      "[CV] END .....................ridge__alpha=1.599858719606058; total time=   0.0s\n",
      "[CV] END .....................ridge__alpha=1.599858719606058; total time=   0.0s\n",
      "[CV] END .....................ridge__alpha=1.599858719606058; total time=   0.0s\n",
      "[CV] END .....................ridge__alpha=1.599858719606058; total time=   0.0s\n",
      "[CV] END .....................ridge__alpha=1.599858719606058; total time=   0.0s\n",
      "[CV] END ....................ridge__alpha=2.5595479226995357; total time=   0.0s\n",
      "[CV] END ....................ridge__alpha=2.5595479226995357; total time=   0.0s\n",
      "[CV] END ....................ridge__alpha=2.5595479226995357; total time=   0.0s\n",
      "[CV] END ....................ridge__alpha=2.5595479226995357; total time=   0.0s\n",
      "[CV] END ....................ridge__alpha=2.5595479226995357; total time=   0.0s\n",
      "[CV] END .....................ridge__alpha=4.094915062380426; total time=   0.0s\n",
      "[CV] END .....................ridge__alpha=4.094915062380426; total time=   0.0s\n",
      "[CV] END .....................ridge__alpha=4.094915062380426; total time=   0.0s\n",
      "[CV] END .....................ridge__alpha=4.094915062380426; total time=   0.0s\n",
      "[CV] END .....................ridge__alpha=4.094915062380426; total time=   0.0s\n",
      "[CV] END .....................ridge__alpha=6.551285568595509; total time=   0.0s\n",
      "[CV] END .....................ridge__alpha=6.551285568595509; total time=   0.0s\n",
      "[CV] END .....................ridge__alpha=6.551285568595509; total time=   0.0s\n",
      "[CV] END .....................ridge__alpha=6.551285568595509; total time=   0.0s\n",
      "[CV] END .....................ridge__alpha=6.551285568595509; total time=   0.0s\n",
      "[CV] END ....................ridge__alpha=10.481131341546858; total time=   0.0s\n",
      "[CV] END ....................ridge__alpha=10.481131341546858; total time=   0.0s\n",
      "[CV] END ....................ridge__alpha=10.481131341546858; total time=   0.0s\n",
      "[CV] END ....................ridge__alpha=10.481131341546858; total time=   0.0s\n",
      "[CV] END ....................ridge__alpha=10.481131341546858; total time=   0.0s\n",
      "[CV] END ....................ridge__alpha=16.768329368110084; total time=   0.0s\n",
      "[CV] END ....................ridge__alpha=16.768329368110084; total time=   0.0s\n",
      "[CV] END ....................ridge__alpha=16.768329368110084; total time=   0.0s\n",
      "[CV] END ....................ridge__alpha=16.768329368110084; total time=   0.0s\n",
      "[CV] END ....................ridge__alpha=16.768329368110084; total time=   0.0s\n",
      "[CV] END ....................ridge__alpha=26.826957952797258; total time=   0.0s\n",
      "[CV] END ....................ridge__alpha=26.826957952797258; total time=   0.0s\n",
      "[CV] END ....................ridge__alpha=26.826957952797258; total time=   0.0s\n",
      "[CV] END ....................ridge__alpha=26.826957952797258; total time=   0.0s\n",
      "[CV] END ....................ridge__alpha=26.826957952797258; total time=   0.0s\n",
      "[CV] END .....................ridge__alpha=42.91934260128778; total time=   0.0s\n",
      "[CV] END .....................ridge__alpha=42.91934260128778; total time=   0.0s\n",
      "[CV] END .....................ridge__alpha=42.91934260128778; total time=   0.0s\n",
      "[CV] END .....................ridge__alpha=42.91934260128778; total time=   0.0s\n",
      "[CV] END .....................ridge__alpha=42.91934260128778; total time=   0.0s\n",
      "[CV] END .....................ridge__alpha=68.66488450043002; total time=   0.0s\n",
      "[CV] END .....................ridge__alpha=68.66488450043002; total time=   0.0s\n",
      "[CV] END .....................ridge__alpha=68.66488450043002; total time=   0.0s\n",
      "[CV] END .....................ridge__alpha=68.66488450043002; total time=   0.0s\n",
      "[CV] END .....................ridge__alpha=68.66488450043002; total time=   0.0s\n",
      "[CV] END ....................ridge__alpha=109.85411419875584; total time=   0.0s\n",
      "[CV] END ....................ridge__alpha=109.85411419875584; total time=   0.0s\n",
      "[CV] END ....................ridge__alpha=109.85411419875584; total time=   0.0s\n",
      "[CV] END ....................ridge__alpha=109.85411419875584; total time=   0.0s\n",
      "[CV] END ....................ridge__alpha=109.85411419875584; total time=   0.0s\n",
      "[CV] END .....................ridge__alpha=175.7510624854793; total time=   0.0s\n",
      "[CV] END .....................ridge__alpha=175.7510624854793; total time=   0.0s\n",
      "[CV] END .....................ridge__alpha=175.7510624854793; total time=   0.0s\n",
      "[CV] END .....................ridge__alpha=175.7510624854793; total time=   0.0s\n",
      "[CV] END .....................ridge__alpha=175.7510624854793; total time=   0.0s\n",
      "[CV] END .....................ridge__alpha=281.1768697974231; total time=   0.0s\n",
      "[CV] END .....................ridge__alpha=281.1768697974231; total time=   0.0s\n",
      "[CV] END .....................ridge__alpha=281.1768697974231; total time=   0.0s\n",
      "[CV] END .....................ridge__alpha=281.1768697974231; total time=   0.0s\n",
      "[CV] END .....................ridge__alpha=281.1768697974231; total time=   0.0s\n",
      "[CV] END .....................ridge__alpha=449.8432668969444; total time=   0.0s\n",
      "[CV] END .....................ridge__alpha=449.8432668969444; total time=   0.0s\n",
      "[CV] END .....................ridge__alpha=449.8432668969444; total time=   0.0s\n",
      "[CV] END .....................ridge__alpha=449.8432668969444; total time=   0.0s\n",
      "[CV] END .....................ridge__alpha=449.8432668969444; total time=   0.0s\n",
      "[CV] END .....................ridge__alpha=719.6856730011522; total time=   0.0s\n",
      "[CV] END .....................ridge__alpha=719.6856730011522; total time=   0.0s\n",
      "[CV] END .....................ridge__alpha=719.6856730011522; total time=   0.0s\n",
      "[CV] END .....................ridge__alpha=719.6856730011522; total time=   0.0s\n",
      "[CV] END .....................ridge__alpha=719.6856730011522; total time=   0.0s\n",
      "[CV] END ....................ridge__alpha=1151.3953993264481; total time=   0.0s\n",
      "[CV] END ....................ridge__alpha=1151.3953993264481; total time=   0.0s\n",
      "[CV] END ....................ridge__alpha=1151.3953993264481; total time=   0.0s\n",
      "[CV] END ....................ridge__alpha=1151.3953993264481; total time=   0.0s\n",
      "[CV] END ....................ridge__alpha=1151.3953993264481; total time=   0.0s\n",
      "[CV] END ....................ridge__alpha=1842.0699693267163; total time=   0.0s\n",
      "[CV] END ....................ridge__alpha=1842.0699693267163; total time=   0.0s\n",
      "[CV] END ....................ridge__alpha=1842.0699693267163; total time=   0.0s\n",
      "[CV] END ....................ridge__alpha=1842.0699693267163; total time=   0.0s\n",
      "[CV] END ....................ridge__alpha=1842.0699693267163; total time=   0.0s\n",
      "[CV] END ....................ridge__alpha=2947.0517025518097; total time=   0.0s\n",
      "[CV] END ....................ridge__alpha=2947.0517025518097; total time=   0.0s\n",
      "[CV] END ....................ridge__alpha=2947.0517025518097; total time=   0.0s\n",
      "[CV] END ....................ridge__alpha=2947.0517025518097; total time=   0.0s\n",
      "[CV] END ....................ridge__alpha=2947.0517025518097; total time=   0.0s\n",
      "[CV] END .....................ridge__alpha=4714.866363457394; total time=   0.0s\n",
      "[CV] END .....................ridge__alpha=4714.866363457394; total time=   0.0s\n",
      "[CV] END .....................ridge__alpha=4714.866363457394; total time=   0.0s\n",
      "[CV] END .....................ridge__alpha=4714.866363457394; total time=   0.0s\n",
      "[CV] END .....................ridge__alpha=4714.866363457394; total time=   0.0s\n",
      "[CV] END .....................ridge__alpha=7543.120063354622; total time=   0.0s\n",
      "[CV] END .....................ridge__alpha=7543.120063354622; total time=   0.0s\n",
      "[CV] END .....................ridge__alpha=7543.120063354622; total time=   0.0s\n",
      "[CV] END .....................ridge__alpha=7543.120063354622; total time=   0.0s\n",
      "[CV] END .....................ridge__alpha=7543.120063354622; total time=   0.0s\n",
      "[CV] END .....................ridge__alpha=12067.92640639329; total time=   0.0s\n",
      "[CV] END .....................ridge__alpha=12067.92640639329; total time=   0.0s\n"
     ]
    },
    {
     "name": "stdout",
     "output_type": "stream",
     "text": [
      "[CV] END .....................ridge__alpha=12067.92640639329; total time=   0.0s\n",
      "[CV] END .....................ridge__alpha=12067.92640639329; total time=   0.0s\n",
      "[CV] END .....................ridge__alpha=12067.92640639329; total time=   0.0s\n",
      "[CV] END ....................ridge__alpha=19306.977288832495; total time=   0.0s\n",
      "[CV] END ....................ridge__alpha=19306.977288832495; total time=   0.0s\n",
      "[CV] END ....................ridge__alpha=19306.977288832495; total time=   0.0s\n",
      "[CV] END ....................ridge__alpha=19306.977288832495; total time=   0.0s\n",
      "[CV] END ....................ridge__alpha=19306.977288832495; total time=   0.0s\n",
      "[CV] END .....................ridge__alpha=30888.43596477485; total time=   0.0s\n",
      "[CV] END .....................ridge__alpha=30888.43596477485; total time=   0.0s\n",
      "[CV] END .....................ridge__alpha=30888.43596477485; total time=   0.0s\n",
      "[CV] END .....................ridge__alpha=30888.43596477485; total time=   0.0s\n",
      "[CV] END .....................ridge__alpha=30888.43596477485; total time=   0.0s\n",
      "[CV] END .....................ridge__alpha=49417.13361323838; total time=   0.0s\n",
      "[CV] END .....................ridge__alpha=49417.13361323838; total time=   0.0s\n",
      "[CV] END .....................ridge__alpha=49417.13361323838; total time=   0.0s\n",
      "[CV] END .....................ridge__alpha=49417.13361323838; total time=   0.0s\n",
      "[CV] END .....................ridge__alpha=49417.13361323838; total time=   0.0s\n",
      "[CV] END .....................ridge__alpha=79060.43210907701; total time=   0.0s\n",
      "[CV] END .....................ridge__alpha=79060.43210907701; total time=   0.0s\n",
      "[CV] END .....................ridge__alpha=79060.43210907701; total time=   0.0s\n",
      "[CV] END .....................ridge__alpha=79060.43210907701; total time=   0.0s\n",
      "[CV] END .....................ridge__alpha=79060.43210907701; total time=   0.0s\n",
      "[CV] END ....................ridge__alpha=126485.52168552957; total time=   0.0s\n",
      "[CV] END ....................ridge__alpha=126485.52168552957; total time=   0.0s\n",
      "[CV] END ....................ridge__alpha=126485.52168552957; total time=   0.0s\n",
      "[CV] END ....................ridge__alpha=126485.52168552957; total time=   0.0s\n",
      "[CV] END ....................ridge__alpha=126485.52168552957; total time=   0.0s\n",
      "[CV] END ....................ridge__alpha=202358.96477251555; total time=   0.0s\n",
      "[CV] END ....................ridge__alpha=202358.96477251555; total time=   0.0s\n",
      "[CV] END ....................ridge__alpha=202358.96477251555; total time=   0.0s\n",
      "[CV] END ....................ridge__alpha=202358.96477251555; total time=   0.0s\n",
      "[CV] END ....................ridge__alpha=202358.96477251555; total time=   0.0s\n",
      "[CV] END .....................ridge__alpha=323745.7542817647; total time=   0.0s\n",
      "[CV] END .....................ridge__alpha=323745.7542817647; total time=   0.0s\n",
      "[CV] END .....................ridge__alpha=323745.7542817647; total time=   0.0s\n",
      "[CV] END .....................ridge__alpha=323745.7542817647; total time=   0.0s\n",
      "[CV] END .....................ridge__alpha=323745.7542817647; total time=   0.0s\n",
      "[CV] END ....................ridge__alpha=517947.46792312124; total time=   0.0s\n",
      "[CV] END ....................ridge__alpha=517947.46792312124; total time=   0.0s\n",
      "[CV] END ....................ridge__alpha=517947.46792312124; total time=   0.0s\n",
      "[CV] END ....................ridge__alpha=517947.46792312124; total time=   0.0s\n",
      "[CV] END ....................ridge__alpha=517947.46792312124; total time=   0.0s\n",
      "[CV] END .....................ridge__alpha=828642.7728546843; total time=   0.0s\n",
      "[CV] END .....................ridge__alpha=828642.7728546843; total time=   0.0s\n",
      "[CV] END .....................ridge__alpha=828642.7728546843; total time=   0.0s\n",
      "[CV] END .....................ridge__alpha=828642.7728546843; total time=   0.0s\n",
      "[CV] END .....................ridge__alpha=828642.7728546843; total time=   0.0s\n",
      "[CV] END .....................ridge__alpha=1325711.365590111; total time=   0.0s\n",
      "[CV] END .....................ridge__alpha=1325711.365590111; total time=   0.0s\n",
      "[CV] END .....................ridge__alpha=1325711.365590111; total time=   0.0s\n",
      "[CV] END .....................ridge__alpha=1325711.365590111; total time=   0.0s\n",
      "[CV] END .....................ridge__alpha=1325711.365590111; total time=   0.0s\n",
      "[CV] END ....................ridge__alpha=2120950.8879201924; total time=   0.0s\n",
      "[CV] END ....................ridge__alpha=2120950.8879201924; total time=   0.0s\n",
      "[CV] END ....................ridge__alpha=2120950.8879201924; total time=   0.0s\n",
      "[CV] END ....................ridge__alpha=2120950.8879201924; total time=   0.0s\n",
      "[CV] END ....................ridge__alpha=2120950.8879201924; total time=   0.0s\n",
      "[CV] END ....................ridge__alpha=3393221.7718953295; total time=   0.0s\n",
      "[CV] END ....................ridge__alpha=3393221.7718953295; total time=   0.0s\n",
      "[CV] END ....................ridge__alpha=3393221.7718953295; total time=   0.0s\n",
      "[CV] END ....................ridge__alpha=3393221.7718953295; total time=   0.0s\n",
      "[CV] END ....................ridge__alpha=3393221.7718953295; total time=   0.0s\n",
      "[CV] END .....................ridge__alpha=5428675.439323859; total time=   0.0s\n",
      "[CV] END .....................ridge__alpha=5428675.439323859; total time=   0.0s\n",
      "[CV] END .....................ridge__alpha=5428675.439323859; total time=   0.0s\n",
      "[CV] END .....................ridge__alpha=5428675.439323859; total time=   0.0s\n",
      "[CV] END .....................ridge__alpha=5428675.439323859; total time=   0.0s\n",
      "[CV] END ......................ridge__alpha=8685113.73751352; total time=   0.0s\n",
      "[CV] END ......................ridge__alpha=8685113.73751352; total time=   0.0s\n",
      "[CV] END ......................ridge__alpha=8685113.73751352; total time=   0.0s\n",
      "[CV] END ......................ridge__alpha=8685113.73751352; total time=   0.0s\n",
      "[CV] END ......................ridge__alpha=8685113.73751352; total time=   0.0s\n",
      "[CV] END ....................ridge__alpha=13894954.943731388; total time=   0.0s\n",
      "[CV] END ....................ridge__alpha=13894954.943731388; total time=   0.0s\n",
      "[CV] END ....................ridge__alpha=13894954.943731388; total time=   0.0s\n",
      "[CV] END ....................ridge__alpha=13894954.943731388; total time=   0.0s\n",
      "[CV] END ....................ridge__alpha=13894954.943731388; total time=   0.0s\n",
      "[CV] END ....................ridge__alpha=22229964.825261954; total time=   0.0s\n",
      "[CV] END ....................ridge__alpha=22229964.825261954; total time=   0.0s\n",
      "[CV] END ....................ridge__alpha=22229964.825261954; total time=   0.0s\n",
      "[CV] END ....................ridge__alpha=22229964.825261954; total time=   0.0s\n",
      "[CV] END ....................ridge__alpha=22229964.825261954; total time=   0.0s\n",
      "[CV] END .....................ridge__alpha=35564803.06223129; total time=   0.0s\n",
      "[CV] END .....................ridge__alpha=35564803.06223129; total time=   0.0s\n",
      "[CV] END .....................ridge__alpha=35564803.06223129; total time=   0.0s\n",
      "[CV] END .....................ridge__alpha=35564803.06223129; total time=   0.0s\n",
      "[CV] END .....................ridge__alpha=35564803.06223129; total time=   0.0s\n",
      "[CV] END ....................ridge__alpha=56898660.290183045; total time=   0.0s\n",
      "[CV] END ....................ridge__alpha=56898660.290183045; total time=   0.0s\n",
      "[CV] END ....................ridge__alpha=56898660.290183045; total time=   0.0s\n",
      "[CV] END ....................ridge__alpha=56898660.290183045; total time=   0.0s\n",
      "[CV] END ....................ridge__alpha=56898660.290183045; total time=   0.0s\n",
      "[CV] END .....................ridge__alpha=91029817.79915227; total time=   0.0s\n",
      "[CV] END .....................ridge__alpha=91029817.79915227; total time=   0.0s\n",
      "[CV] END .....................ridge__alpha=91029817.79915227; total time=   0.0s\n",
      "[CV] END .....................ridge__alpha=91029817.79915227; total time=   0.0s\n",
      "[CV] END .....................ridge__alpha=91029817.79915227; total time=   0.0s\n",
      "[CV] END ....................ridge__alpha=145634847.75012445; total time=   0.0s\n",
      "[CV] END ....................ridge__alpha=145634847.75012445; total time=   0.0s\n",
      "[CV] END ....................ridge__alpha=145634847.75012445; total time=   0.0s\n",
      "[CV] END ....................ridge__alpha=145634847.75012445; total time=   0.0s\n",
      "[CV] END ....................ridge__alpha=145634847.75012445; total time=   0.0s\n"
     ]
    },
    {
     "name": "stdout",
     "output_type": "stream",
     "text": [
      "[CV] END .....................ridge__alpha=232995181.0515372; total time=   0.0s\n",
      "[CV] END .....................ridge__alpha=232995181.0515372; total time=   0.0s\n",
      "[CV] END .....................ridge__alpha=232995181.0515372; total time=   0.0s\n",
      "[CV] END .....................ridge__alpha=232995181.0515372; total time=   0.0s\n",
      "[CV] END .....................ridge__alpha=232995181.0515372; total time=   0.0s\n",
      "[CV] END .....................ridge__alpha=372759372.0314938; total time=   0.0s\n",
      "[CV] END .....................ridge__alpha=372759372.0314938; total time=   0.0s\n",
      "[CV] END .....................ridge__alpha=372759372.0314938; total time=   0.0s\n",
      "[CV] END .....................ridge__alpha=372759372.0314938; total time=   0.0s\n",
      "[CV] END .....................ridge__alpha=372759372.0314938; total time=   0.0s\n",
      "[CV] END .....................ridge__alpha=596362331.6594636; total time=   0.0s\n",
      "[CV] END .....................ridge__alpha=596362331.6594636; total time=   0.0s\n",
      "[CV] END .....................ridge__alpha=596362331.6594636; total time=   0.0s\n",
      "[CV] END .....................ridge__alpha=596362331.6594636; total time=   0.0s\n",
      "[CV] END .....................ridge__alpha=596362331.6594636; total time=   0.0s\n",
      "[CV] END .....................ridge__alpha=954095476.3499963; total time=   0.0s\n",
      "[CV] END .....................ridge__alpha=954095476.3499963; total time=   0.0s\n",
      "[CV] END .....................ridge__alpha=954095476.3499963; total time=   0.0s\n",
      "[CV] END .....................ridge__alpha=954095476.3499963; total time=   0.0s\n",
      "[CV] END .....................ridge__alpha=954095476.3499963; total time=   0.0s\n",
      "[CV] END ....................ridge__alpha=1526417967.1752365; total time=   0.0s\n",
      "[CV] END ....................ridge__alpha=1526417967.1752365; total time=   0.0s\n",
      "[CV] END ....................ridge__alpha=1526417967.1752365; total time=   0.0s\n",
      "[CV] END ....................ridge__alpha=1526417967.1752365; total time=   0.0s\n",
      "[CV] END ....................ridge__alpha=1526417967.1752365; total time=   0.0s\n",
      "[CV] END ....................ridge__alpha=2442053094.5486546; total time=   0.0s\n",
      "[CV] END ....................ridge__alpha=2442053094.5486546; total time=   0.0s\n",
      "[CV] END ....................ridge__alpha=2442053094.5486546; total time=   0.0s\n",
      "[CV] END ....................ridge__alpha=2442053094.5486546; total time=   0.0s\n",
      "[CV] END ....................ridge__alpha=2442053094.5486546; total time=   0.0s\n",
      "[CV] END ....................ridge__alpha=3906939937.0546207; total time=   0.0s\n",
      "[CV] END ....................ridge__alpha=3906939937.0546207; total time=   0.0s\n",
      "[CV] END ....................ridge__alpha=3906939937.0546207; total time=   0.0s\n",
      "[CV] END ....................ridge__alpha=3906939937.0546207; total time=   0.0s\n",
      "[CV] END ....................ridge__alpha=3906939937.0546207; total time=   0.0s\n",
      "[CV] END .....................ridge__alpha=6250551925.273976; total time=   0.0s\n",
      "[CV] END .....................ridge__alpha=6250551925.273976; total time=   0.0s\n",
      "[CV] END .....................ridge__alpha=6250551925.273976; total time=   0.0s\n",
      "[CV] END .....................ridge__alpha=6250551925.273976; total time=   0.0s\n",
      "[CV] END .....................ridge__alpha=6250551925.273976; total time=   0.0s\n",
      "[CV] END .........................ridge__alpha=10000000000.0; total time=   0.0s\n",
      "[CV] END .........................ridge__alpha=10000000000.0; total time=   0.0s\n",
      "[CV] END .........................ridge__alpha=10000000000.0; total time=   0.0s\n",
      "[CV] END .........................ridge__alpha=10000000000.0; total time=   0.0s\n",
      "[CV] END .........................ridge__alpha=10000000000.0; total time=   0.0s\n",
      "Train MSE: 90304584.71807761\n",
      "Test MSE: 1368475362682.9966\n"
     ]
    }
   ],
   "source": [
    "# I believe the larger MSE on the test data indicates overfitting.\n",
    "# Try Ridge with different alphas to see if it produces a better MSE with the selector and a scaler\n",
    "ridge_param_dict = {'ridge__alpha': np.logspace(0, 10, 50) }\n",
    "#                    'selector__n_features_to_select': [2, 3, 4, 5] }\n",
    "ridge_pipe = Pipeline([#('selector', SequentialFeatureSelector(Ridge())),\n",
    "                       ('scaler', StandardScaler()), \n",
    "                      ('ridge', Ridge())])\n",
    "ridge_grid = GridSearchCV(ridge_pipe, param_grid=ridge_param_dict, verbose=2)\n",
    "ridge_grid.fit(X_train, y_train)\n",
    "ridge_train_preds = ridge_grid.predict(X_train)\n",
    "ridge_test_preds = ridge_grid.predict(X_test)\n",
    "ridge_train_mse = mean_squared_error(y_train, ridge_train_preds)\n",
    "ridge_test_mse = mean_squared_error(y_test, ridge_test_preds)\n",
    "### END SOLUTION\n",
    "\n",
    "# ANSWER CHECK\n",
    "print(f'Train MSE: {ridge_train_mse}')\n",
    "print(f'Test MSE: {ridge_test_mse}')\n"
   ]
  },
  {
   "cell_type": "code",
   "execution_count": 31,
   "metadata": {},
   "outputs": [
    {
     "name": "stdout",
     "output_type": "stream",
     "text": [
      "13752.949836707492\n",
      "24914.850215517243\n"
     ]
    }
   ],
   "source": [
    "# Why are these models so bad?\n",
    "print(np.mean(ridge_test_preds))\n",
    "print(np.mean(y_test))\n",
    "\n"
   ]
  },
  {
   "cell_type": "code",
   "execution_count": 32,
   "metadata": {},
   "outputs": [
    {
     "name": "stdout",
     "output_type": "stream",
     "text": [
      "Pipeline(steps=[('scaler', StandardScaler()),\n",
      "                ('ridge', Ridge(alpha=7543.120063354622))])\n"
     ]
    }
   ],
   "source": [
    "best_estimator = ridge_grid.best_estimator_\n",
    "print(best_estimator)"
   ]
  },
  {
   "cell_type": "code",
   "execution_count": 33,
   "metadata": {},
   "outputs": [
    {
     "name": "stdout",
     "output_type": "stream",
     "text": [
      "Fitting 5 folds for each of 4 candidates, totalling 20 fits\n",
      "[CV] END ...................selector__n_features_to_select=4; total time=   6.5s\n",
      "[CV] END ...................selector__n_features_to_select=4; total time=   6.5s\n",
      "[CV] END ...................selector__n_features_to_select=4; total time=   5.9s\n",
      "[CV] END ...................selector__n_features_to_select=4; total time=   8.7s\n",
      "[CV] END ...................selector__n_features_to_select=4; total time=   6.6s\n",
      "[CV] END ...................selector__n_features_to_select=5; total time=   7.4s\n",
      "[CV] END ...................selector__n_features_to_select=5; total time=   9.0s\n",
      "[CV] END ...................selector__n_features_to_select=5; total time=   9.3s\n",
      "[CV] END ...................selector__n_features_to_select=5; total time=   7.9s\n",
      "[CV] END ...................selector__n_features_to_select=5; total time=   8.3s\n",
      "[CV] END ...................selector__n_features_to_select=6; total time=   9.4s\n",
      "[CV] END ...................selector__n_features_to_select=6; total time=  10.0s\n",
      "[CV] END ...................selector__n_features_to_select=6; total time=  10.1s\n",
      "[CV] END ...................selector__n_features_to_select=6; total time=  10.8s\n",
      "[CV] END ...................selector__n_features_to_select=6; total time=  10.1s\n",
      "[CV] END ...................selector__n_features_to_select=7; total time=  12.9s\n",
      "[CV] END ...................selector__n_features_to_select=7; total time=  13.0s\n",
      "[CV] END ...................selector__n_features_to_select=7; total time=  12.7s\n",
      "[CV] END ...................selector__n_features_to_select=7; total time=  12.7s\n",
      "[CV] END ...................selector__n_features_to_select=7; total time=  13.0s\n",
      "Train MSE: 108402116.16189282\n",
      "Test MSE: 1368573830591.2388\n"
     ]
    }
   ],
   "source": [
    "# Try again to get features\n",
    "ridge_param_dict = {'selector__n_features_to_select': [4, 5, 6, 7] }\n",
    "ridge_pipe = Pipeline([('selector', SequentialFeatureSelector(Ridge(alpha=7543.12))),\n",
    "                       ('scaler', StandardScaler()), \n",
    "                      ('ridge', Ridge(alpha=7543.12))])\n",
    "ridge_grid = GridSearchCV(ridge_pipe, param_grid=ridge_param_dict, verbose=2)\n",
    "ridge_grid.fit(X_train, y_train)\n",
    "ridge_train_preds = ridge_grid.predict(X_train)\n",
    "ridge_test_preds = ridge_grid.predict(X_test)\n",
    "ridge_train_mse = mean_squared_error(y_train, ridge_train_preds)\n",
    "ridge_test_mse = mean_squared_error(y_test, ridge_test_preds)\n",
    "### END SOLUTION\n",
    "\n",
    "# ANSWER CHECK\n",
    "print(f'Train MSE: {ridge_train_mse}')\n",
    "print(f'Test MSE: {ridge_test_mse}')\n"
   ]
  },
  {
   "cell_type": "code",
   "execution_count": 34,
   "metadata": {},
   "outputs": [
    {
     "name": "stdout",
     "output_type": "stream",
     "text": [
      "Pipeline(steps=[('selector',\n",
      "                 SequentialFeatureSelector(estimator=Ridge(alpha=7543.12),\n",
      "                                           n_features_to_select=7)),\n",
      "                ('scaler', StandardScaler()), ('ridge', Ridge(alpha=7543.12))])\n",
      "Features from best selector: Index(['year', 'cylinders_4 cylinders', 'cylinders_8 cylinders', 'fuel_diesel',\n",
      "       'drive_fwd', 'type_sedan', 'type_truck'],\n",
      "      dtype='object').\n",
      "Coefficient values: \n",
      "===================\n"
     ]
    },
    {
     "data": {
      "text/html": [
       "<div>\n",
       "<style scoped>\n",
       "    .dataframe tbody tr th:only-of-type {\n",
       "        vertical-align: middle;\n",
       "    }\n",
       "\n",
       "    .dataframe tbody tr th {\n",
       "        vertical-align: top;\n",
       "    }\n",
       "\n",
       "    .dataframe thead th {\n",
       "        text-align: right;\n",
       "    }\n",
       "</style>\n",
       "<table border=\"1\" class=\"dataframe\">\n",
       "  <thead>\n",
       "    <tr style=\"text-align: right;\">\n",
       "      <th></th>\n",
       "      <th>year</th>\n",
       "      <th>cylinders_4 cylinders</th>\n",
       "      <th>cylinders_8 cylinders</th>\n",
       "      <th>fuel_diesel</th>\n",
       "      <th>drive_fwd</th>\n",
       "      <th>type_sedan</th>\n",
       "      <th>type_truck</th>\n",
       "    </tr>\n",
       "  </thead>\n",
       "  <tbody>\n",
       "    <tr>\n",
       "      <th>model</th>\n",
       "      <td>2747.717398</td>\n",
       "      <td>-932.925096</td>\n",
       "      <td>1397.809625</td>\n",
       "      <td>1722.532969</td>\n",
       "      <td>-1606.44202</td>\n",
       "      <td>-853.27435</td>\n",
       "      <td>732.458166</td>\n",
       "    </tr>\n",
       "  </tbody>\n",
       "</table>\n",
       "</div>"
      ],
      "text/plain": [
       "              year  cylinders_4 cylinders  cylinders_8 cylinders  fuel_diesel  \\\n",
       "model  2747.717398            -932.925096            1397.809625  1722.532969   \n",
       "\n",
       "        drive_fwd  type_sedan  type_truck  \n",
       "model -1606.44202  -853.27435  732.458166  "
      ]
     },
     "execution_count": 34,
     "metadata": {},
     "output_type": "execute_result"
    }
   ],
   "source": [
    "# Code from 9.7\n",
    "best_estimator = ridge_grid.best_estimator_\n",
    "best_selector = best_estimator.named_steps['selector']\n",
    "best_model = ridge_grid.best_estimator_.named_steps['ridge']\n",
    "feature_names = X_train.columns[best_selector.get_support()]\n",
    "coefs = best_model.coef_\n",
    "\n",
    "print(best_estimator)\n",
    "print(f'Features from best selector: {feature_names}.')\n",
    "print('Coefficient values: ')\n",
    "print('===================')\n",
    "pd.DataFrame([coefs.T], columns = feature_names, index = ['model'])"
   ]
  },
  {
   "cell_type": "code",
   "execution_count": 35,
   "metadata": {},
   "outputs": [
    {
     "name": "stdout",
     "output_type": "stream",
     "text": [
      "Fitting 5 folds for each of 1 candidates, totalling 5 fits\n",
      "[CV] END ..................selector__n_features_to_select=10; total time=  21.5s\n",
      "[CV] END ..................selector__n_features_to_select=10; total time=  21.6s\n",
      "[CV] END ..................selector__n_features_to_select=10; total time=  21.9s\n",
      "[CV] END ..................selector__n_features_to_select=10; total time=  21.5s\n",
      "[CV] END ..................selector__n_features_to_select=10; total time=  21.6s\n",
      "Train MSE: 106446568.54749133\n",
      "Test MSE: 1368499896249.103\n"
     ]
    }
   ],
   "source": [
    "# let's see the top 10 features\n",
    "ridge_param_dict = {'selector__n_features_to_select': [10] }\n",
    "ridge_pipe = Pipeline([('selector', SequentialFeatureSelector(Ridge(alpha=7543.12))),\n",
    "                       ('scaler', StandardScaler()), \n",
    "                      ('ridge', Ridge(alpha=7543.12))])\n",
    "ridge_grid = GridSearchCV(ridge_pipe, param_grid=ridge_param_dict, verbose=2)\n",
    "ridge_grid.fit(X_train, y_train)\n",
    "ridge_train_preds = ridge_grid.predict(X_train)\n",
    "ridge_test_preds = ridge_grid.predict(X_test)\n",
    "ridge_train_mse = mean_squared_error(y_train, ridge_train_preds)\n",
    "ridge_test_mse = mean_squared_error(y_test, ridge_test_preds)\n",
    "\n",
    "print(f'Train MSE: {ridge_train_mse}')\n",
    "print(f'Test MSE: {ridge_test_mse}')"
   ]
  },
  {
   "cell_type": "code",
   "execution_count": 36,
   "metadata": {},
   "outputs": [
    {
     "name": "stdout",
     "output_type": "stream",
     "text": [
      "Pipeline(steps=[('selector',\n",
      "                 SequentialFeatureSelector(estimator=Ridge(alpha=7543.12),\n",
      "                                           n_features_to_select=10)),\n",
      "                ('scaler', StandardScaler()), ('ridge', Ridge(alpha=7543.12))])\n",
      "Features from best selector: Index(['year', 'condition_like new', 'cylinders_4 cylinders',\n",
      "       'cylinders_8 cylinders', 'fuel_diesel', 'fuel_gas', 'drive_fwd',\n",
      "       'size_full-size', 'type_sedan', 'type_truck'],\n",
      "      dtype='object').\n",
      "Coefficient values: \n",
      "===================\n"
     ]
    },
    {
     "data": {
      "text/html": [
       "<div>\n",
       "<style scoped>\n",
       "    .dataframe tbody tr th:only-of-type {\n",
       "        vertical-align: middle;\n",
       "    }\n",
       "\n",
       "    .dataframe tbody tr th {\n",
       "        vertical-align: top;\n",
       "    }\n",
       "\n",
       "    .dataframe thead th {\n",
       "        text-align: right;\n",
       "    }\n",
       "</style>\n",
       "<table border=\"1\" class=\"dataframe\">\n",
       "  <thead>\n",
       "    <tr style=\"text-align: right;\">\n",
       "      <th></th>\n",
       "      <th>year</th>\n",
       "      <th>condition_like new</th>\n",
       "      <th>cylinders_4 cylinders</th>\n",
       "      <th>cylinders_8 cylinders</th>\n",
       "      <th>fuel_diesel</th>\n",
       "      <th>fuel_gas</th>\n",
       "      <th>drive_fwd</th>\n",
       "      <th>size_full-size</th>\n",
       "      <th>type_sedan</th>\n",
       "      <th>type_truck</th>\n",
       "    </tr>\n",
       "  </thead>\n",
       "  <tbody>\n",
       "    <tr>\n",
       "      <th>model</th>\n",
       "      <td>2627.362889</td>\n",
       "      <td>1126.451739</td>\n",
       "      <td>-841.752317</td>\n",
       "      <td>1314.811712</td>\n",
       "      <td>1440.470502</td>\n",
       "      <td>-483.848112</td>\n",
       "      <td>-1597.759594</td>\n",
       "      <td>455.694678</td>\n",
       "      <td>-817.402174</td>\n",
       "      <td>700.430873</td>\n",
       "    </tr>\n",
       "  </tbody>\n",
       "</table>\n",
       "</div>"
      ],
      "text/plain": [
       "              year  condition_like new  cylinders_4 cylinders  \\\n",
       "model  2627.362889         1126.451739            -841.752317   \n",
       "\n",
       "       cylinders_8 cylinders  fuel_diesel    fuel_gas    drive_fwd  \\\n",
       "model            1314.811712  1440.470502 -483.848112 -1597.759594   \n",
       "\n",
       "       size_full-size  type_sedan  type_truck  \n",
       "model      455.694678 -817.402174  700.430873  "
      ]
     },
     "execution_count": 36,
     "metadata": {},
     "output_type": "execute_result"
    }
   ],
   "source": [
    "# Code from 9.7\n",
    "# Comparing to linear regression the Test MSE was much better.\n",
    "best_estimator = ridge_grid.best_estimator_\n",
    "best_selector = best_estimator.named_steps['selector']\n",
    "best_model = ridge_grid.best_estimator_.named_steps['ridge']\n",
    "feature_names = X_train.columns[best_selector.get_support()]\n",
    "coefs = best_model.coef_\n",
    "\n",
    "print(best_estimator)\n",
    "print(f'Features from best selector: {feature_names}.')\n",
    "print('Coefficient values: ')\n",
    "print('===================')\n",
    "pd.DataFrame([coefs.T], columns = feature_names, index = ['model'])"
   ]
  },
  {
   "cell_type": "markdown",
   "metadata": {},
   "source": [
    "### Evaluation\n",
    "\n",
    "With some modeling accomplished, we aim to reflect on what we identify as a high quality model and what we are able to learn from this.  We should review our business objective and explore how well we can provide meaningful insight on drivers of used car prices.  Your goal now is to distill your findings and determine whether the earlier phases need revisitation and adjustment or if you have information of value to bring back to your client."
   ]
  },
  {
   "cell_type": "code",
   "execution_count": 37,
   "metadata": {},
   "outputs": [],
   "source": [
    "# The mse is too high for test data\n",
    "# I think we should ry a polynomial with the year, condition, cyclinders, fuel, drive, size, type\n",
    "# As these are apparently the best predictors of determining pricing.\n",
    "features = ['price', 'year', 'condition', 'fuel', 'cylinders', 'size', 'drive', 'type']\n",
    "final_cols = final_cols[features]\n",
    "final_obj_cols = list(final_cols.select_dtypes(include=['object']).columns)\n",
    "tmp_df = pd.get_dummies(final_cols[final_obj_cols])\n",
    "tmp_df.head()\n",
    "\n",
    "final = final_cols.drop(final_obj_cols, axis=1)\n",
    "final = final.join(tmp_df)\n",
    "\n",
    "price = final['price']\n",
    "dataf = final.drop('price', axis=1)\n",
    "\n",
    "X_train, X_test, y_train, y_test = train_test_split(dataf, price, random_state=42, test_size=0.3)"
   ]
  },
  {
   "cell_type": "code",
   "execution_count": 38,
   "metadata": {},
   "outputs": [],
   "source": [
    "# found out >3 fails...\n",
    "ridge_param_dict = {'poly_features__degree': [2, 3] }\n",
    "ridge_pipe = Pipeline([ ('poly_features', PolynomialFeatures(include_bias = False)),\n",
    "                        ('scaler', StandardScaler()), \n",
    "                        ('ridge', Ridge(alpha=7543.12))])\n",
    "ridge_grid = GridSearchCV(ridge_pipe, param_grid=ridge_param_dict, verbose=2)"
   ]
  },
  {
   "cell_type": "code",
   "execution_count": 39,
   "metadata": {},
   "outputs": [
    {
     "name": "stdout",
     "output_type": "stream",
     "text": [
      "Fitting 5 folds for each of 2 candidates, totalling 10 fits\n",
      "[CV] END ............................poly_features__degree=2; total time=   0.7s\n",
      "[CV] END ............................poly_features__degree=2; total time=   0.7s\n",
      "[CV] END ............................poly_features__degree=2; total time=   0.6s\n",
      "[CV] END ............................poly_features__degree=2; total time=   0.6s\n",
      "[CV] END ............................poly_features__degree=2; total time=   0.6s\n",
      "[CV] END ............................poly_features__degree=3; total time=  54.6s\n",
      "[CV] END ............................poly_features__degree=3; total time=  49.6s\n",
      "[CV] END ............................poly_features__degree=3; total time=  47.3s\n",
      "[CV] END ............................poly_features__degree=3; total time=  46.3s\n",
      "[CV] END ............................poly_features__degree=3; total time=  47.5s\n"
     ]
    }
   ],
   "source": [
    "ridge_grid.fit(X_train, y_train)\n",
    "ridge_train_preds = ridge_grid.predict(X_train)\n",
    "ridge_test_preds = ridge_grid.predict(X_test)\n",
    "ridge_train_mse = mean_squared_error(y_train, ridge_train_preds)\n",
    "ridge_test_mse = mean_squared_error(y_test, ridge_test_preds)"
   ]
  },
  {
   "cell_type": "code",
   "execution_count": 40,
   "metadata": {},
   "outputs": [
    {
     "name": "stdout",
     "output_type": "stream",
     "text": [
      "Train MSE: 93863549.59982513\n",
      "Test MSE: 1368517975705.1187\n"
     ]
    }
   ],
   "source": [
    "print(f'Train MSE: {ridge_train_mse}')\n",
    "print(f'Test MSE: {ridge_test_mse}')"
   ]
  },
  {
   "cell_type": "code",
   "execution_count": 41,
   "metadata": {},
   "outputs": [
    {
     "name": "stdout",
     "output_type": "stream",
     "text": [
      "Pipeline(steps=[('poly_features', PolynomialFeatures(include_bias=False)),\n",
      "                ('scaler', StandardScaler()), ('ridge', Ridge(alpha=7543.12))])\n"
     ]
    }
   ],
   "source": [
    "# Code from 9.7\n",
    "# Comparing to linear regression the Test MSE was much better.\n",
    "best_estimator = ridge_grid.best_estimator_\n",
    "print(best_estimator)"
   ]
  },
  {
   "cell_type": "code",
   "execution_count": 42,
   "metadata": {},
   "outputs": [],
   "source": [
    "# poly didn't seem to help\n",
    "# I'm probably missing something basic here"
   ]
  },
  {
   "cell_type": "code",
   "execution_count": 43,
   "metadata": {},
   "outputs": [
    {
     "data": {
      "text/plain": [
       "[<matplotlib.lines.Line2D at 0x239bee340a0>]"
      ]
     },
     "execution_count": 43,
     "metadata": {},
     "output_type": "execute_result"
    },
    {
     "data": {
      "image/png": "[encoded data removed]",
      "text/plain": [
       "<Figure size 640x480 with 1 Axes>"
      ]
     },
     "metadata": {},
     "output_type": "display_data"
    }
   ],
   "source": [
    "# plot mean price per year\n",
    "gp_price = final.groupby('year')['price']\n",
    "plt.plot(gp_price.mean())"
   ]
  },
  {
   "cell_type": "code",
   "execution_count": 44,
   "metadata": {},
   "outputs": [
    {
     "name": "stdout",
     "output_type": "stream",
     "text": [
      "1281699.7620843835\n",
      "35394\n",
      "37117\n"
     ]
    },
    {
     "data": {
      "image/png": "[encoded data removed]",
      "text/plain": [
       "<Figure size 640x480 with 1 Axes>"
      ]
     },
     "metadata": {},
     "output_type": "display_data"
    },
    {
     "name": "stdout",
     "output_type": "stream",
     "text": [
      "year    condition\n",
      "2001.0  excellent    166\n",
      "        good         142\n",
      "        fair          27\n",
      "        like new      23\n",
      "        new            1\n",
      "                    ... \n",
      "2021.0  new           90\n",
      "        good          42\n",
      "        excellent     37\n",
      "        like new      13\n",
      "2022.0  new           14\n",
      "Name: condition, Length: 119, dtype: int64\n"
     ]
    },
    {
     "data": {
      "image/png": "[encoded data removed]",
      "text/plain": [
       "<Figure size 640x480 with 6 Axes>"
      ]
     },
     "metadata": {},
     "output_type": "display_data"
    }
   ],
   "source": [
    "# I believe I shouldn't look at data before 2000 and remove the outliers\n",
    "sig2 = 2 * final['price'].std()\n",
    "print(sig2)\n",
    "data_2000 = final[(final['year'] > 2000)]\n",
    "data_2000 = data_2000[data_2000['price'] < 1000000]\n",
    "print(data_2000.shape[0])\n",
    "print(final.shape[0])\n",
    "gp_price = data_2000.groupby('year')['price']\n",
    "\n",
    "plt.plot(gp_price.mean())\n",
    "plt.title('Mean Price per Year')\n",
    "plt.xlabel('Year')\n",
    "plt.ylabel('Price')\n",
    "plt.show()\n",
    "\n",
    "data_c2000 = final_cols[(final_cols['year'] > 2000)]\n",
    "data_c2000 = data_c2000[data_c2000['price'] < 1000000]\n",
    "gp_cond = data_c2000.groupby('year')['condition']\n",
    "print(gp_cond.value_counts())\n",
    "\n",
    "data_c2000[['year', 'condition']].hist(by=['condition'])\n",
    "plt.tight_layout()"
   ]
  },
  {
   "cell_type": "code",
   "execution_count": null,
   "metadata": {},
   "outputs": [],
   "source": []
  },
  {
   "cell_type": "code",
   "execution_count": 45,
   "metadata": {},
   "outputs": [],
   "source": [
    "# try this one more time.\n",
    "dataf = final[final['year'] > 2000]\n",
    "dataf = dataf[dataf['price'] < 1000000]\n",
    "price = dataf['price']\n",
    "dataf = dataf.drop('price', axis=1)\n",
    "\n",
    "X_train, X_test, y_train, y_test = train_test_split(dataf, price, random_state=42, test_size=0.3)"
   ]
  },
  {
   "cell_type": "code",
   "execution_count": 46,
   "metadata": {},
   "outputs": [
    {
     "name": "stdout",
     "output_type": "stream",
     "text": [
      "Fitting 5 folds for each of 1 candidates, totalling 5 fits\n",
      "[CV] END ..................selector__n_features_to_select=20; total time=  11.6s\n",
      "[CV] END ..................selector__n_features_to_select=20; total time=  12.0s\n",
      "[CV] END ..................selector__n_features_to_select=20; total time=  11.7s\n",
      "[CV] END ..................selector__n_features_to_select=20; total time=  11.5s\n",
      "[CV] END ..................selector__n_features_to_select=20; total time=  11.3s\n",
      "Train MSE: 84113231.04879948\n",
      "Test MSE: 87117007.26191893\n"
     ]
    }
   ],
   "source": [
    "ridge_param_dict = {'selector__n_features_to_select': [20] }\n",
    "ridge_pipe = Pipeline([('selector', SequentialFeatureSelector(Ridge(alpha=7543.12))),\n",
    "                       ('scaler', StandardScaler()), \n",
    "                      ('ridge', Ridge(alpha=7543.12))])\n",
    "ridge_grid = GridSearchCV(ridge_pipe, param_grid=ridge_param_dict, verbose=2)\n",
    "ridge_grid.fit(X_train, y_train)\n",
    "ridge_train_preds = ridge_grid.predict(X_train)\n",
    "ridge_test_preds = ridge_grid.predict(X_test)\n",
    "ridge_train_mse = mean_squared_error(y_train, ridge_train_preds)\n",
    "ridge_test_mse = mean_squared_error(y_test, ridge_test_preds)\n",
    "\n",
    "print(f'Train MSE: {ridge_train_mse}')\n",
    "print(f'Test MSE: {ridge_test_mse}')"
   ]
  },
  {
   "cell_type": "code",
   "execution_count": 47,
   "metadata": {},
   "outputs": [
    {
     "name": "stdout",
     "output_type": "stream",
     "text": [
      "Pipeline(steps=[('selector',\n",
      "                 SequentialFeatureSelector(estimator=Ridge(alpha=7543.12),\n",
      "                                           n_features_to_select=20)),\n",
      "                ('scaler', StandardScaler()), ('ridge', Ridge(alpha=7543.12))])\n",
      "Features from best selector: Index(['year', 'condition_like new', 'fuel_diesel', 'fuel_gas', 'fuel_other',\n",
      "       'cylinders_4 cylinders', 'cylinders_8 cylinders', 'size_compact',\n",
      "       'size_full-size', 'drive_4wd', 'drive_fwd', 'drive_rwd', 'type_SUV',\n",
      "       'type_convertible', 'type_coupe', 'type_hatchback', 'type_pickup',\n",
      "       'type_sedan', 'type_truck', 'type_wagon'],\n",
      "      dtype='object').\n",
      "Coefficient values: \n",
      "===================\n",
      "[4081.98379216  860.00407764 1352.32424849 -619.84053053 -466.15499202\n",
      " -971.70516053 1027.01280831 -138.06119271  456.66991348  772.83901941\n",
      " -999.55620934  297.65770127 -312.16745916  509.3515429   507.85209963\n",
      " -269.32819778  695.26024172 -669.09406106  823.0109039  -329.08052007]\n"
     ]
    },
    {
     "data": {
      "text/html": [
       "<div>\n",
       "<style scoped>\n",
       "    .dataframe tbody tr th:only-of-type {\n",
       "        vertical-align: middle;\n",
       "    }\n",
       "\n",
       "    .dataframe tbody tr th {\n",
       "        vertical-align: top;\n",
       "    }\n",
       "\n",
       "    .dataframe thead th {\n",
       "        text-align: right;\n",
       "    }\n",
       "</style>\n",
       "<table border=\"1\" class=\"dataframe\">\n",
       "  <thead>\n",
       "    <tr style=\"text-align: right;\">\n",
       "      <th></th>\n",
       "      <th>drive_fwd</th>\n",
       "      <th>cylinders_4 cylinders</th>\n",
       "      <th>type_sedan</th>\n",
       "      <th>fuel_gas</th>\n",
       "      <th>fuel_other</th>\n",
       "      <th>type_wagon</th>\n",
       "      <th>type_SUV</th>\n",
       "      <th>type_hatchback</th>\n",
       "      <th>size_compact</th>\n",
       "      <th>drive_rwd</th>\n",
       "      <th>size_full-size</th>\n",
       "      <th>type_coupe</th>\n",
       "      <th>type_convertible</th>\n",
       "      <th>type_pickup</th>\n",
       "      <th>drive_4wd</th>\n",
       "      <th>type_truck</th>\n",
       "      <th>condition_like new</th>\n",
       "      <th>cylinders_8 cylinders</th>\n",
       "      <th>fuel_diesel</th>\n",
       "      <th>year</th>\n",
       "    </tr>\n",
       "  </thead>\n",
       "  <tbody>\n",
       "    <tr>\n",
       "      <th>model</th>\n",
       "      <td>-999.556209</td>\n",
       "      <td>-971.705161</td>\n",
       "      <td>-669.094061</td>\n",
       "      <td>-619.840531</td>\n",
       "      <td>-466.154992</td>\n",
       "      <td>-329.08052</td>\n",
       "      <td>-312.167459</td>\n",
       "      <td>-269.328198</td>\n",
       "      <td>-138.061193</td>\n",
       "      <td>297.657701</td>\n",
       "      <td>456.669913</td>\n",
       "      <td>507.8521</td>\n",
       "      <td>509.351543</td>\n",
       "      <td>695.260242</td>\n",
       "      <td>772.839019</td>\n",
       "      <td>823.010904</td>\n",
       "      <td>860.004078</td>\n",
       "      <td>1027.012808</td>\n",
       "      <td>1352.324248</td>\n",
       "      <td>4081.983792</td>\n",
       "    </tr>\n",
       "  </tbody>\n",
       "</table>\n",
       "</div>"
      ],
      "text/plain": [
       "        drive_fwd  cylinders_4 cylinders  type_sedan    fuel_gas  fuel_other  \\\n",
       "model -999.556209            -971.705161 -669.094061 -619.840531 -466.154992   \n",
       "\n",
       "       type_wagon    type_SUV  type_hatchback  size_compact   drive_rwd  \\\n",
       "model  -329.08052 -312.167459     -269.328198   -138.061193  297.657701   \n",
       "\n",
       "       size_full-size  type_coupe  type_convertible  type_pickup   drive_4wd  \\\n",
       "model      456.669913    507.8521        509.351543   695.260242  772.839019   \n",
       "\n",
       "       type_truck  condition_like new  cylinders_8 cylinders  fuel_diesel  \\\n",
       "model  823.010904          860.004078            1027.012808  1352.324248   \n",
       "\n",
       "              year  \n",
       "model  4081.983792  "
      ]
     },
     "execution_count": 47,
     "metadata": {},
     "output_type": "execute_result"
    }
   ],
   "source": [
    "# Code from 9.7\n",
    "# Comparing to linear regression the Test MSE was much better.\n",
    "best_estimator = ridge_grid.best_estimator_\n",
    "best_selector = best_estimator.named_steps['selector']\n",
    "best_model = ridge_grid.best_estimator_.named_steps['ridge']\n",
    "feature_names = X_train.columns[best_selector.get_support()]\n",
    "coefs = best_model.coef_\n",
    "\n",
    "print(best_estimator)\n",
    "print(f'Features from best selector: {feature_names}.')\n",
    "print('Coefficient values: ')\n",
    "print('===================')\n",
    "print(coefs)\n",
    "sort = np.argsort(coefs.T)\n",
    "cdf = pd.DataFrame([coefs.T[sort]], columns = feature_names[sort], index = ['model'])\n",
    "cdf"
   ]
  },
  {
   "cell_type": "code",
   "execution_count": 48,
   "metadata": {},
   "outputs": [],
   "source": [
    "# The training/testing MSE is much better"
   ]
  },
  {
   "cell_type": "code",
   "execution_count": 49,
   "metadata": {},
   "outputs": [
    {
     "data": {
      "image/png": "[encoded data removed]",
      "text/plain": [
       "<Figure size 640x480 with 1 Axes>"
      ]
     },
     "metadata": {},
     "output_type": "display_data"
    },
    {
     "name": "stdout",
     "output_type": "stream",
     "text": [
      "cylinders\n",
      "10 cylinders      198\n",
      "12 cylinders       12\n",
      "3 cylinders        73\n",
      "4 cylinders     14841\n",
      "5 cylinders       326\n",
      "6 cylinders     13014\n",
      "8 cylinders      8486\n",
      "other             167\n",
      "Name: price, dtype: int64\n"
     ]
    }
   ],
   "source": [
    "# plot mean price per year\n",
    "gp_price = final_cols.groupby('cylinders')['price']\n",
    "plt.plot(gp_price.mean())\n",
    "plt.xticks(rotation=45)\n",
    "plt.show()\n",
    "print(gp_price.size())\n"
   ]
  },
  {
   "cell_type": "markdown",
   "metadata": {},
   "source": [
    "### Deployment\n",
    "\n",
    "Now that we've settled on our models and findings, it is time to deliver the information to the client.  You should organize your work as a basic report that details your primary findings.  Keep in mind that your audience is a group of used car dealers interested in fine tuning their inventory."
   ]
  },
  {
   "attachments": {
    "image-2.png": {
     "image/png": "[encoded data removed]"
    },
    "image-3.png": {
     "image/png": "[encoded data removed]"
    }
   },
   "cell_type": "markdown",
   "metadata": {},
   "source": [
    "# Report\n",
    "\n",
    "Although it may be obvious the best predictors of price found in the used car data was 'year' and 'condition'.  The following graph shows the mean price over the past 20 years.\n",
    "\n",
    "![image-2.png](attachment:image-2.png)\n",
    "\n",
    "The price decreases the older the vehicle is and the older the vehicle the condition is typically worse.  The following histograms reveal the better conditon vehicles stack up more toward the current years.\n",
    "\n",
    "![image-3.png](attachment:image-3.png)\n",
    "\n",
    "Other factors that fetch a higher price include 'diesel fuel', '8 cylinder', '4WD', 'pick-up', 'truck', or 'coupe', 'convertible', 'rear wheel drive' and 'full-size'.  And vehicles with 'front wheel drive', '4 cylinders', 'sedan', 'standard fuel' and types like 'wagon', 'SUV', 'hatchback', and 'compact' will sell at a relative discount.\n",
    "\n",
    "I find it interesting that 'odometer' readings are not among the top contributures to pricing.  I believe further investigation is required there.\n",
    "\n",
    "I hope you find this information meaningful when assessing your vehicle price categories, inventory and sales strategies.  With more time we could try to determine a price strategy for various vehicles sizes and types.\n",
    "\n"
   ]
  },
  {
   "cell_type": "code",
   "execution_count": null,
   "metadata": {},
   "outputs": [],
   "source": []
  },
  {
   "cell_type": "code",
   "execution_count": null,
   "metadata": {},
   "outputs": [],
   "source": []
  },
  {
   "cell_type": "code",
   "execution_count": null,
   "metadata": {},
   "outputs": [],
   "source": []
  },
  {
   "cell_type": "code",
   "execution_count": null,
   "metadata": {},
   "outputs": [],
   "source": []
  },
  {
   "cell_type": "code",
   "execution_count": null,
   "metadata": {},
   "outputs": [],
   "source": []
  },
  {
   "cell_type": "code",
   "execution_count": null,
   "metadata": {},
   "outputs": [],
   "source": []
  }
 ],
 "metadata": {
  "kernelspec": {
   "display_name": "Python 3 (ipykernel)",
   "language": "python",
   "name": "python3"
  },
  "language_info": {
   "codemirror_mode": {
    "name": "ipython",
    "version": 3
   },
   "file_extension": ".py",
   "mimetype": "text/x-python",
   "name": "python",
   "nbconvert_exporter": "python",
   "pygments_lexer": "ipython3",
   "version": "3.9.13"
  },
  "widgets": {
   "application/vnd.jupyter.widget-state+json": {
    "state": {},
    "version_major": 2,
    "version_minor": 0
   }
  }
 },
 "nbformat": 4,
 "nbformat_minor": 4
}
